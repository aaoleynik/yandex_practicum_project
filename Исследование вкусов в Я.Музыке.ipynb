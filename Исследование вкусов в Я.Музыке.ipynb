{
 "cells": [
  {
   "cell_type": "markdown",
   "metadata": {
    "id": "E0vqbgi9ay0H"
   },
   "source": [
    "# Исследование вкусов пользователей в Яндекс Музыке"
   ]
  },
  {
   "cell_type": "markdown",
   "metadata": {
    "id": "VUC88oWjTJw2"
   },
   "source": [
    "## Цель исследования\n",
    "Необходимо проверить 3 гипотезы:\n",
    "1. Активность пользователей зависит от дня недели. Причём в Москве и Петербурге это проявляется по-разному.\n",
    "2. В понедельник утром в Москве преобладают одни жанры, а в Петербурге — другие. Так же и вечером пятницы преобладают разные жанры — в зависимости от города. \n",
    "3. Москва и Петербург предпочитают разные жанры музыки. В Москве чаще слушают поп-музыку, в Петербурге — русский рэп.\n",
    "\n",
    "## Описание данных\n",
    "Данные хранятся в файле yandex_music_project.csv.\n",
    "\n",
    "Описание колонок:\n",
    "* `userID` — идентификатор пользователя;\n",
    "* `Track` — название трека;\n",
    "* `artist` — имя исполнителя;\n",
    "* `genre` — название жанра;\n",
    "* `City` — город пользователя;\n",
    "* `time` — время начала прослушивания;\n",
    "* `Day` — день недели.\n",
    "\n",
    "## Ход исследования\n",
    "\n",
    "Данные о поведении пользователей вы получите из файла `yandex_music_project.csv`. О качестве данных ничего не известно. Поэтому перед проверкой гипотез понадобится обзор данных. \n",
    "\n",
    "Вы проверите данные на ошибки и оцените их влияние на исследование. Затем, на этапе предобработки вы поищете возможность исправить самые критичные ошибки данных.\n",
    " \n",
    "Таким образом, исследование пройдёт в три этапа:\n",
    "1. Обзор данных.\n",
    "2. Предобработка данных:\n",
    "    * Обработка заголовков столбцов.\n",
    "    * Обработка пропусков.\n",
    "    * Обработка дубликатов.\n",
    "3. Проверка гипотез:\n",
    "    * Сравнение поведения пользователей двух столиц.\n",
    "    * Анализ предпочтений в музыке в начале и в конце недели.\n",
    "    * Анализ жанровых предпочтений в Москве и Петербурге.\n",
    "4. Подвести итоги исследования.\n"
   ]
  },
  {
   "cell_type": "markdown",
   "metadata": {
    "id": "Ml1hmfXC_Zcs"
   },
   "source": [
    "## Обзор данных\n",
    "\n",
    "Составим первое представление о данных Яндекс Музыки."
   ]
  },
  {
   "cell_type": "code",
   "execution_count": 1,
   "metadata": {
    "id": "AXN7PHPN_Zcs"
   },
   "outputs": [],
   "source": [
    "#Импорт библиотеки pandas.\n",
    "import pandas as pd"
   ]
  },
  {
   "cell_type": "markdown",
   "metadata": {
    "id": "SG23P8tt_Zcs"
   },
   "source": [
    "Прочитайте файл `yandex_music_project.csv` из папки `/datasets` и сохраните его в переменной `df`:"
   ]
  },
  {
   "cell_type": "code",
   "execution_count": 2,
   "metadata": {
    "id": "fFVu7vqh_Zct"
   },
   "outputs": [],
   "source": [
    "#Чтение файла с данными и сохранение в df.\n",
    "df = pd.read_csv('/datasets/yandex_music_project.csv')"
   ]
  },
  {
   "cell_type": "code",
   "execution_count": 3,
   "metadata": {
    "id": "oWTVX3gW_Zct",
    "scrolled": true
   },
   "outputs": [
    {
     "data": {
      "text/html": [
       "<div>\n",
       "<style scoped>\n",
       "    .dataframe tbody tr th:only-of-type {\n",
       "        vertical-align: middle;\n",
       "    }\n",
       "\n",
       "    .dataframe tbody tr th {\n",
       "        vertical-align: top;\n",
       "    }\n",
       "\n",
       "    .dataframe thead th {\n",
       "        text-align: right;\n",
       "    }\n",
       "</style>\n",
       "<table border=\"1\" class=\"dataframe\">\n",
       "  <thead>\n",
       "    <tr style=\"text-align: right;\">\n",
       "      <th></th>\n",
       "      <th>userID</th>\n",
       "      <th>Track</th>\n",
       "      <th>artist</th>\n",
       "      <th>genre</th>\n",
       "      <th>City</th>\n",
       "      <th>time</th>\n",
       "      <th>Day</th>\n",
       "    </tr>\n",
       "  </thead>\n",
       "  <tbody>\n",
       "    <tr>\n",
       "      <th>0</th>\n",
       "      <td>FFB692EC</td>\n",
       "      <td>Kamigata To Boots</td>\n",
       "      <td>The Mass Missile</td>\n",
       "      <td>rock</td>\n",
       "      <td>Saint-Petersburg</td>\n",
       "      <td>20:28:33</td>\n",
       "      <td>Wednesday</td>\n",
       "    </tr>\n",
       "    <tr>\n",
       "      <th>1</th>\n",
       "      <td>55204538</td>\n",
       "      <td>Delayed Because of Accident</td>\n",
       "      <td>Andreas Rönnberg</td>\n",
       "      <td>rock</td>\n",
       "      <td>Moscow</td>\n",
       "      <td>14:07:09</td>\n",
       "      <td>Friday</td>\n",
       "    </tr>\n",
       "    <tr>\n",
       "      <th>2</th>\n",
       "      <td>20EC38</td>\n",
       "      <td>Funiculì funiculà</td>\n",
       "      <td>Mario Lanza</td>\n",
       "      <td>pop</td>\n",
       "      <td>Saint-Petersburg</td>\n",
       "      <td>20:58:07</td>\n",
       "      <td>Wednesday</td>\n",
       "    </tr>\n",
       "    <tr>\n",
       "      <th>3</th>\n",
       "      <td>A3DD03C9</td>\n",
       "      <td>Dragons in the Sunset</td>\n",
       "      <td>Fire + Ice</td>\n",
       "      <td>folk</td>\n",
       "      <td>Saint-Petersburg</td>\n",
       "      <td>08:37:09</td>\n",
       "      <td>Monday</td>\n",
       "    </tr>\n",
       "    <tr>\n",
       "      <th>4</th>\n",
       "      <td>E2DC1FAE</td>\n",
       "      <td>Soul People</td>\n",
       "      <td>Space Echo</td>\n",
       "      <td>dance</td>\n",
       "      <td>Moscow</td>\n",
       "      <td>08:34:34</td>\n",
       "      <td>Monday</td>\n",
       "    </tr>\n",
       "    <tr>\n",
       "      <th>5</th>\n",
       "      <td>842029A1</td>\n",
       "      <td>Преданная</td>\n",
       "      <td>IMPERVTOR</td>\n",
       "      <td>rusrap</td>\n",
       "      <td>Saint-Petersburg</td>\n",
       "      <td>13:09:41</td>\n",
       "      <td>Friday</td>\n",
       "    </tr>\n",
       "    <tr>\n",
       "      <th>6</th>\n",
       "      <td>4CB90AA5</td>\n",
       "      <td>True</td>\n",
       "      <td>Roman Messer</td>\n",
       "      <td>dance</td>\n",
       "      <td>Moscow</td>\n",
       "      <td>13:00:07</td>\n",
       "      <td>Wednesday</td>\n",
       "    </tr>\n",
       "    <tr>\n",
       "      <th>7</th>\n",
       "      <td>F03E1C1F</td>\n",
       "      <td>Feeling This Way</td>\n",
       "      <td>Polina Griffith</td>\n",
       "      <td>dance</td>\n",
       "      <td>Moscow</td>\n",
       "      <td>20:47:49</td>\n",
       "      <td>Wednesday</td>\n",
       "    </tr>\n",
       "    <tr>\n",
       "      <th>8</th>\n",
       "      <td>8FA1D3BE</td>\n",
       "      <td>И вновь продолжается бой</td>\n",
       "      <td>NaN</td>\n",
       "      <td>ruspop</td>\n",
       "      <td>Moscow</td>\n",
       "      <td>09:17:40</td>\n",
       "      <td>Friday</td>\n",
       "    </tr>\n",
       "    <tr>\n",
       "      <th>9</th>\n",
       "      <td>E772D5C0</td>\n",
       "      <td>Pessimist</td>\n",
       "      <td>NaN</td>\n",
       "      <td>dance</td>\n",
       "      <td>Saint-Petersburg</td>\n",
       "      <td>21:20:49</td>\n",
       "      <td>Wednesday</td>\n",
       "    </tr>\n",
       "  </tbody>\n",
       "</table>\n",
       "</div>"
      ],
      "text/plain": [
       "     userID                        Track            artist   genre  \\\n",
       "0  FFB692EC            Kamigata To Boots  The Mass Missile    rock   \n",
       "1  55204538  Delayed Because of Accident  Andreas Rönnberg    rock   \n",
       "2    20EC38            Funiculì funiculà       Mario Lanza     pop   \n",
       "3  A3DD03C9        Dragons in the Sunset        Fire + Ice    folk   \n",
       "4  E2DC1FAE                  Soul People        Space Echo   dance   \n",
       "5  842029A1                    Преданная         IMPERVTOR  rusrap   \n",
       "6  4CB90AA5                         True      Roman Messer   dance   \n",
       "7  F03E1C1F             Feeling This Way   Polina Griffith   dance   \n",
       "8  8FA1D3BE     И вновь продолжается бой               NaN  ruspop   \n",
       "9  E772D5C0                    Pessimist               NaN   dance   \n",
       "\n",
       "             City        time        Day  \n",
       "0  Saint-Petersburg  20:28:33  Wednesday  \n",
       "1            Moscow  14:07:09     Friday  \n",
       "2  Saint-Petersburg  20:58:07  Wednesday  \n",
       "3  Saint-Petersburg  08:37:09     Monday  \n",
       "4            Moscow  08:34:34     Monday  \n",
       "5  Saint-Petersburg  13:09:41     Friday  \n",
       "6            Moscow  13:00:07  Wednesday  \n",
       "7            Moscow  20:47:49  Wednesday  \n",
       "8            Moscow  09:17:40     Friday  \n",
       "9  Saint-Petersburg  21:20:49  Wednesday  "
      ]
     },
     "metadata": {},
     "output_type": "display_data"
    }
   ],
   "source": [
    "#Получение первых 10 строк таблицы df.\n",
    "display(df.head(10))"
   ]
  },
  {
   "cell_type": "code",
   "execution_count": 4,
   "metadata": {
    "id": "DSf2kIb-_Zct"
   },
   "outputs": [
    {
     "name": "stdout",
     "output_type": "stream",
     "text": [
      "<class 'pandas.core.frame.DataFrame'>\n",
      "RangeIndex: 65079 entries, 0 to 65078\n",
      "Data columns (total 7 columns):\n",
      " #   Column    Non-Null Count  Dtype \n",
      "---  ------    --------------  ----- \n",
      " 0     userID  65079 non-null  object\n",
      " 1   Track     63848 non-null  object\n",
      " 2   artist    57876 non-null  object\n",
      " 3   genre     63881 non-null  object\n",
      " 4     City    65079 non-null  object\n",
      " 5   time      65079 non-null  object\n",
      " 6   Day       65079 non-null  object\n",
      "dtypes: object(7)\n",
      "memory usage: 3.5+ MB\n"
     ]
    }
   ],
   "source": [
    "#Получение общей информации о данных в таблице df.\n",
    "df.info()"
   ]
  },
  {
   "cell_type": "markdown",
   "metadata": {
    "id": "TaQ2Iwbr_Zct"
   },
   "source": [
    "Итак, в таблице семь столбцов. Тип данных во всех столбцах — `object`.\n",
    "\n",
    "Согласно документации к данным:\n",
    "* `userID` — идентификатор пользователя;\n",
    "* `Track` — название трека;  \n",
    "* `artist` — имя исполнителя;\n",
    "* `genre` — название жанра;\n",
    "* `City` — город пользователя;\n",
    "* `time` — время начала прослушивания;\n",
    "* `Day` — день недели.\n",
    "\n",
    "В названиях колонок видны три нарушения стиля:\n",
    "1. Строчные буквы сочетаются с прописными.\n",
    "2. Встречаются пробелы.\n",
    "3. В заголовке 'userID' необходимо разделить слова подчеркиванием.\n",
    "\n",
    "\n",
    "\n",
    "Количество значений в столбцах различается. Значит, в данных есть пропущенные значения.\n"
   ]
  },
  {
   "cell_type": "markdown",
   "metadata": {
    "id": "MCB6-dXG_Zct"
   },
   "source": [
    "**Выводы**\n",
    "\n",
    "В каждой строке таблицы — данные о прослушанном треке. Часть колонок описывает саму композицию: название, исполнителя и жанр. Остальные данные рассказывают о пользователе: из какого он города, когда он слушал музыку. \n",
    "\n",
    "Предварительно можно утверждать, что, данных достаточно для проверки гипотез. Но встречаются пропуски в данных, а в названиях колонок — расхождения с хорошим стилем.\n",
    "\n",
    "Чтобы двигаться дальше, нужно устранить проблемы в данных."
   ]
  },
  {
   "cell_type": "markdown",
   "metadata": {
    "id": "SjYF6Ub9_Zct"
   },
   "source": [
    "## Предобработка данных\n",
    "Исправьте стиль в заголовках столбцов, исключите пропуски. Затем проверьте данные на дубликаты."
   ]
  },
  {
   "cell_type": "markdown",
   "metadata": {
    "id": "dIaKXr29_Zct"
   },
   "source": [
    "### Стиль заголовков\n",
    "Выведем на экран названия столбцов:"
   ]
  },
  {
   "cell_type": "code",
   "execution_count": 5,
   "metadata": {
    "id": "oKOTdF_Q_Zct"
   },
   "outputs": [
    {
     "data": {
      "text/plain": [
       "Index(['  userID', 'Track', 'artist', 'genre', '  City  ', 'time', 'Day'], dtype='object')"
      ]
     },
     "execution_count": 5,
     "metadata": {},
     "output_type": "execute_result"
    }
   ],
   "source": [
    "#Перечень названий столбцов таблицы df.\n",
    "df.columns"
   ]
  },
  {
   "cell_type": "markdown",
   "metadata": {
    "id": "zj5534cv_Zct"
   },
   "source": [
    "Приведём названия в соответствие с хорошим стилем:\n",
    "* Несколько слов в названии запишем в «змеином_регистре».\n",
    "* Все символы сделаем строчными.\n",
    "* Устраним пробелы.\n",
    "\n",
    "Для этого переименуем колонки так:\n",
    "* `'  userID'` → `'user_id'`;\n",
    "* `'Track'` → `'track'`;\n",
    "* `'  City  '` → `'city'`;\n",
    "* `'Day'` → `'day'`."
   ]
  },
  {
   "cell_type": "code",
   "execution_count": 6,
   "metadata": {
    "id": "ISlFqs5y_Zct"
   },
   "outputs": [],
   "source": [
    "#Переименование столбцов.\n",
    "df = df.rename(columns={'  userID': 'user_id', 'Track': 'track', '  City  ': 'city', 'Day': 'day'})"
   ]
  },
  {
   "cell_type": "code",
   "execution_count": 7,
   "metadata": {
    "id": "d4NOAmTW_Zct"
   },
   "outputs": [
    {
     "data": {
      "text/plain": [
       "Index(['user_id', 'track', 'artist', 'genre', 'city', 'time', 'day'], dtype='object')"
      ]
     },
     "execution_count": 7,
     "metadata": {},
     "output_type": "execute_result"
    }
   ],
   "source": [
    "#Проверка результатов - перечень названий столбцов.\n",
    "df.columns"
   ]
  },
  {
   "cell_type": "markdown",
   "metadata": {
    "id": "5ISfbcfY_Zct"
   },
   "source": [
    "### Пропуски значений\n",
    "Сначала посчитаем, сколько в таблице пропущенных значений. Для этого достаточно двух методов `pandas`:"
   ]
  },
  {
   "cell_type": "code",
   "execution_count": 8,
   "metadata": {
    "id": "RskX29qr_Zct"
   },
   "outputs": [
    {
     "name": "stdout",
     "output_type": "stream",
     "text": [
      "user_id       0\n",
      "track      1231\n",
      "artist     7203\n",
      "genre      1198\n",
      "city          0\n",
      "time          0\n",
      "day           0\n",
      "dtype: int64\n"
     ]
    }
   ],
   "source": [
    "#Подсчёт пропусков.\n",
    "print(df.isna().sum())"
   ]
  },
  {
   "cell_type": "markdown",
   "metadata": {
    "id": "qubhgnlO_Zct"
   },
   "source": [
    "В `track` и `artist` пропуски не важны для нашего исследования. Достаточно заменить их явными обозначениями.\n",
    "\n",
    "Но пропуски в `genre` могут помешать сравнению музыкальных вкусов в Москве и Санкт-Петербурге. Так как правильно установить причину пропусков и восстановить данные нет возможности, придётся:\n",
    "* Заполнить и эти пропуски явными обозначениями.\n",
    "* Оценить, насколько они повредят расчётам. "
   ]
  },
  {
   "cell_type": "markdown",
   "metadata": {
    "id": "fSv2laPA_Zct"
   },
   "source": [
    "Заменим пропущенные значения в столбцах `track`, `artist` и `genre` на строку `'unknown'`. Для этого создадим список `columns_to_replace`, переберём его элементы циклом `for` и для каждого столбца выполним замену пропущенных значений:"
   ]
  },
  {
   "cell_type": "code",
   "execution_count": 9,
   "metadata": {
    "id": "KplB5qWs_Zct"
   },
   "outputs": [],
   "source": [
    "#Перебор названий столбцов в цикле и замена пропущенных значений на 'unknown'.\n",
    "columns_to_replace = ['track', 'artist', 'genre']\n",
    "\n",
    "for column in columns_to_replace:\n",
    "    df[column] = df[column].fillna('unknown')"
   ]
  },
  {
   "cell_type": "markdown",
   "metadata": {
    "id": "Ilsm-MZo_Zct"
   },
   "source": [
    "Убедимся, что в таблице не осталось пропусков. Для этого ещё раз посчитаем пропущенные значения."
   ]
  },
  {
   "cell_type": "code",
   "execution_count": 10,
   "metadata": {
    "id": "Tq4nYRX4_Zct"
   },
   "outputs": [
    {
     "name": "stdout",
     "output_type": "stream",
     "text": [
      "user_id    0\n",
      "track      0\n",
      "artist     0\n",
      "genre      0\n",
      "city       0\n",
      "time       0\n",
      "day        0\n",
      "dtype: int64\n"
     ]
    }
   ],
   "source": [
    "#Подсчёт пропусков.\n",
    "print(df.isna().sum())"
   ]
  },
  {
   "cell_type": "markdown",
   "metadata": {
    "id": "BWKRtBJ3_Zct"
   },
   "source": [
    "### Дубликаты\n",
    "Посчитаем явные дубликаты в таблице одной командой:"
   ]
  },
  {
   "cell_type": "code",
   "execution_count": 11,
   "metadata": {
    "id": "36eES_S0_Zct"
   },
   "outputs": [
    {
     "name": "stdout",
     "output_type": "stream",
     "text": [
      "3826\n"
     ]
    }
   ],
   "source": [
    "#Подсчёт явных дубликатов.\n",
    "print(df.duplicated().sum())"
   ]
  },
  {
   "cell_type": "markdown",
   "metadata": {
    "id": "Ot25h6XR_Zct"
   },
   "source": [
    "Вызовем специальный метод `pandas`, чтобы удалить явные дубликаты:"
   ]
  },
  {
   "cell_type": "code",
   "execution_count": 12,
   "metadata": {
    "id": "exFHq6tt_Zct"
   },
   "outputs": [],
   "source": [
    "#Удаление явных дубликатов (с удалением старых индексов и формированием новых).\n",
    "df = df.drop_duplicates().reset_index(drop=True)"
   ]
  },
  {
   "cell_type": "markdown",
   "metadata": {
    "id": "Im2YwBEG_Zct"
   },
   "source": [
    "Ещё раз посчитаем явные дубликаты в таблице — убедимся, что полностью от них избавились:"
   ]
  },
  {
   "cell_type": "code",
   "execution_count": 13,
   "metadata": {
    "id": "-8PuNWQ0_Zct"
   },
   "outputs": [
    {
     "data": {
      "text/plain": [
       "0"
      ]
     },
     "execution_count": 13,
     "metadata": {},
     "output_type": "execute_result"
    }
   ],
   "source": [
    "#Проверка на отсутствие дубликатов.\n",
    "df.duplicated().sum()"
   ]
  },
  {
   "cell_type": "markdown",
   "metadata": {
    "id": "QlFBsxAr_Zct"
   },
   "source": [
    "Теперь избавимся от неявных дубликатов в колонке `genre`. Например, название одного и того же жанра может быть записано немного по-разному. Такие ошибки тоже повлияют на результат исследования."
   ]
  },
  {
   "cell_type": "markdown",
   "metadata": {
    "id": "eSjWwsOh_Zct"
   },
   "source": [
    "Выведим на экран список уникальных названий жанров, отсортированный в алфавитном порядке. Для этого:\n",
    "* Извлечём нужный столбец датафрейма.\n",
    "* Применим к нему метод сортировки.\n",
    "* Для отсортированного столбца вызовем метод, который вернёт уникальные значения из столбца."
   ]
  },
  {
   "cell_type": "code",
   "execution_count": 14,
   "metadata": {
    "id": "JIUcqzZN_Zct"
   },
   "outputs": [
    {
     "name": "stdout",
     "output_type": "stream",
     "text": [
      "['acid', 'acoustic', 'action', 'adult', 'africa', 'afrikaans', 'alternative', 'alternativepunk', 'ambient', 'americana', 'animated', 'anime', 'arabesk', 'arabic', 'arena', 'argentinetango', 'art', 'audiobook', 'author', 'avantgarde', 'axé', 'baile', 'balkan', 'beats', 'bigroom', 'black', 'bluegrass', 'blues', 'bollywood', 'bossa', 'brazilian', 'breakbeat', 'breaks', 'broadway', 'cantautori', 'cantopop', 'canzone', 'caribbean', 'caucasian', 'celtic', 'chamber', 'chanson', 'children', 'chill', 'chinese', 'choral', 'christian', 'christmas', 'classical', 'classicmetal', 'club', 'colombian', 'comedy', 'conjazz', 'contemporary', 'country', 'cuban', 'dance', 'dancehall', 'dancepop', 'dark', 'death', 'deep', 'deutschrock', 'deutschspr', 'dirty', 'disco', 'dnb', 'documentary', 'downbeat', 'downtempo', 'drum', 'dub', 'dubstep', 'eastern', 'easy', 'electronic', 'electropop', 'emo', 'entehno', 'epicmetal', 'estrada', 'ethnic', 'eurofolk', 'european', 'experimental', 'extrememetal', 'fado', 'fairytail', 'film', 'fitness', 'flamenco', 'folk', 'folklore', 'folkmetal', 'folkrock', 'folktronica', 'forró', 'frankreich', 'französisch', 'french', 'funk', 'future', 'gangsta', 'garage', 'german', 'ghazal', 'gitarre', 'glitch', 'gospel', 'gothic', 'grime', 'grunge', 'gypsy', 'handsup', \"hard'n'heavy\", 'hardcore', 'hardstyle', 'hardtechno', 'hip', 'hip-hop', 'hiphop', 'historisch', 'holiday', 'hop', 'horror', 'house', 'hymn', 'idm', 'independent', 'indian', 'indie', 'indipop', 'industrial', 'inspirational', 'instrumental', 'international', 'irish', 'jam', 'japanese', 'jazz', 'jewish', 'jpop', 'jungle', 'k-pop', 'karadeniz', 'karaoke', 'kayokyoku', 'korean', 'laiko', 'latin', 'latino', 'leftfield', 'local', 'lounge', 'loungeelectronic', 'lovers', 'malaysian', 'mandopop', 'marschmusik', 'meditative', 'mediterranean', 'melodic', 'metal', 'metalcore', 'mexican', 'middle', 'minimal', 'miscellaneous', 'modern', 'mood', 'mpb', 'muslim', 'native', 'neoklassik', 'neue', 'new', 'newage', 'newwave', 'nu', 'nujazz', 'numetal', 'oceania', 'old', 'opera', 'orchestral', 'other', 'piano', 'podcasts', 'pop', 'popdance', 'popelectronic', 'popeurodance', 'poprussian', 'post', 'posthardcore', 'postrock', 'power', 'progmetal', 'progressive', 'psychedelic', 'punjabi', 'punk', 'quebecois', 'ragga', 'ram', 'rancheras', 'rap', 'rave', 'reggae', 'reggaeton', 'regional', 'relax', 'religious', 'retro', 'rhythm', 'rnb', 'rnr', 'rock', 'rockabilly', 'rockalternative', 'rockindie', 'rockother', 'romance', 'roots', 'ruspop', 'rusrap', 'rusrock', 'russian', 'salsa', 'samba', 'scenic', 'schlager', 'self', 'sertanejo', 'shanson', 'shoegazing', 'showtunes', 'singer', 'ska', 'skarock', 'slow', 'smooth', 'soft', 'soul', 'soulful', 'sound', 'soundtrack', 'southern', 'specialty', 'speech', 'spiritual', 'sport', 'stonerrock', 'surf', 'swing', 'synthpop', 'synthrock', 'sängerportrait', 'tango', 'tanzorchester', 'taraftar', 'tatar', 'tech', 'techno', 'teen', 'thrash', 'top', 'traditional', 'tradjazz', 'trance', 'tribal', 'trip', 'triphop', 'tropical', 'türk', 'türkçe', 'ukrrock', 'unknown', 'urban', 'uzbek', 'variété', 'vi', 'videogame', 'vocal', 'western', 'world', 'worldbeat', 'ïîï', 'электроника']\n"
     ]
    }
   ],
   "source": [
    "#Просмотр уникальных названий жанров.\n",
    "print(sorted(df['genre'].unique()))"
   ]
  },
  {
   "cell_type": "markdown",
   "metadata": {
    "id": "qej-Qmuo_Zct"
   },
   "source": [
    "Видим в списке неявные дубликаты названия `hiphop`. Это могут быть названия с ошибками или альтернативные названия того же жанра:\n",
    "* *hip*,\n",
    "* *hop*,\n",
    "* *hip-hop*.\n",
    "\n",
    "Чтобы очистить от них таблицу, напишем функцию `replace_wrong_genres()` с двумя параметрами: \n",
    "* `wrong_genres` — список дубликатов.\n",
    "* `correct_genre` — строка с правильным значением.\n",
    "\n",
    "Функция должна исправить колонку `genre` в таблице `df`: заменить каждое значение из списка `wrong_genres` на значение из `correct_genre`."
   ]
  },
  {
   "cell_type": "code",
   "execution_count": 15,
   "metadata": {
    "id": "ErNDkmns_Zct"
   },
   "outputs": [],
   "source": [
    "#Создаём функцию replace_wrong_genres для замены неявных дубликатов.\n",
    "def replace_wrong_genres(duplicates, correct_value):\n",
    "    df['genre'] = df['genre'].replace(duplicates, correct_value)"
   ]
  },
  {
   "cell_type": "markdown",
   "metadata": {
    "id": "aDoBJxbA_Zct"
   },
   "source": [
    "Вызовем `replace_wrong_genres()` и передадим ей такие аргументы, чтобы она устранила неявные дубликаты: вместо `hip`, `hop` и `hip-hop` в таблице должно быть значение `hiphop`:"
   ]
  },
  {
   "cell_type": "code",
   "execution_count": 18,
   "metadata": {
    "id": "YN5i2hpmSo09"
   },
   "outputs": [],
   "source": [
    "#Устранение неявных дубликатов.\n",
    "duplicates = ['hip', 'hop', 'hip-hop']\n",
    "correct_value = 'hiphop'\n",
    "replace_duplicates_optimal(duplicates, correct_value)"
   ]
  },
  {
   "cell_type": "markdown",
   "metadata": {
    "id": "zQKF16_RG15m"
   },
   "source": [
    "Проверим, что заменили неправильные названия:\n",
    "\n",
    "*   hip\n",
    "*   hop\n",
    "*   hip-hop\n",
    "\n",
    "Выведем отсортированный список уникальных значений столбца `genre`:"
   ]
  },
  {
   "cell_type": "code",
   "execution_count": 19,
   "metadata": {
    "id": "wvixALnFG15m"
   },
   "outputs": [
    {
     "name": "stdout",
     "output_type": "stream",
     "text": [
      "['acid', 'acoustic', 'action', 'adult', 'africa', 'afrikaans', 'alternative', 'alternativepunk', 'ambient', 'americana', 'animated', 'anime', 'arabesk', 'arabic', 'arena', 'argentinetango', 'art', 'audiobook', 'author', 'avantgarde', 'axé', 'baile', 'balkan', 'beats', 'bigroom', 'black', 'bluegrass', 'blues', 'bollywood', 'bossa', 'brazilian', 'breakbeat', 'breaks', 'broadway', 'cantautori', 'cantopop', 'canzone', 'caribbean', 'caucasian', 'celtic', 'chamber', 'chanson', 'children', 'chill', 'chinese', 'choral', 'christian', 'christmas', 'classical', 'classicmetal', 'club', 'colombian', 'comedy', 'conjazz', 'contemporary', 'country', 'cuban', 'dance', 'dancehall', 'dancepop', 'dark', 'death', 'deep', 'deutschrock', 'deutschspr', 'dirty', 'disco', 'dnb', 'documentary', 'downbeat', 'downtempo', 'drum', 'dub', 'dubstep', 'eastern', 'easy', 'electronic', 'electropop', 'emo', 'entehno', 'epicmetal', 'estrada', 'ethnic', 'eurofolk', 'european', 'experimental', 'extrememetal', 'fado', 'fairytail', 'film', 'fitness', 'flamenco', 'folk', 'folklore', 'folkmetal', 'folkrock', 'folktronica', 'forró', 'frankreich', 'französisch', 'french', 'funk', 'future', 'gangsta', 'garage', 'german', 'ghazal', 'gitarre', 'glitch', 'gospel', 'gothic', 'grime', 'grunge', 'gypsy', 'handsup', \"hard'n'heavy\", 'hardcore', 'hardstyle', 'hardtechno', 'hiphop', 'historisch', 'holiday', 'horror', 'house', 'hymn', 'idm', 'independent', 'indian', 'indie', 'indipop', 'industrial', 'inspirational', 'instrumental', 'international', 'irish', 'jam', 'japanese', 'jazz', 'jewish', 'jpop', 'jungle', 'k-pop', 'karadeniz', 'karaoke', 'kayokyoku', 'korean', 'laiko', 'latin', 'latino', 'leftfield', 'local', 'lounge', 'loungeelectronic', 'lovers', 'malaysian', 'mandopop', 'marschmusik', 'meditative', 'mediterranean', 'melodic', 'metal', 'metalcore', 'mexican', 'middle', 'minimal', 'miscellaneous', 'modern', 'mood', 'mpb', 'muslim', 'native', 'neoklassik', 'neue', 'new', 'newage', 'newwave', 'nu', 'nujazz', 'numetal', 'oceania', 'old', 'opera', 'orchestral', 'other', 'piano', 'podcasts', 'pop', 'popdance', 'popelectronic', 'popeurodance', 'poprussian', 'post', 'posthardcore', 'postrock', 'power', 'progmetal', 'progressive', 'psychedelic', 'punjabi', 'punk', 'quebecois', 'ragga', 'ram', 'rancheras', 'rap', 'rave', 'reggae', 'reggaeton', 'regional', 'relax', 'religious', 'retro', 'rhythm', 'rnb', 'rnr', 'rock', 'rockabilly', 'rockalternative', 'rockindie', 'rockother', 'romance', 'roots', 'ruspop', 'rusrap', 'rusrock', 'russian', 'salsa', 'samba', 'scenic', 'schlager', 'self', 'sertanejo', 'shanson', 'shoegazing', 'showtunes', 'singer', 'ska', 'skarock', 'slow', 'smooth', 'soft', 'soul', 'soulful', 'sound', 'soundtrack', 'southern', 'specialty', 'speech', 'spiritual', 'sport', 'stonerrock', 'surf', 'swing', 'synthpop', 'synthrock', 'sängerportrait', 'tango', 'tanzorchester', 'taraftar', 'tatar', 'tech', 'techno', 'teen', 'thrash', 'top', 'traditional', 'tradjazz', 'trance', 'tribal', 'trip', 'triphop', 'tropical', 'türk', 'türkçe', 'ukrrock', 'unknown', 'urban', 'uzbek', 'variété', 'vi', 'videogame', 'vocal', 'western', 'world', 'worldbeat', 'ïîï', 'электроника']\n"
     ]
    }
   ],
   "source": [
    "#Проверка на неявные дубликаты.\n",
    "print(sorted(df['genre'].unique()))"
   ]
  },
  {
   "cell_type": "markdown",
   "metadata": {
    "id": "jz6a9-7HQUDd"
   },
   "source": [
    "**Выводы**\n",
    "\n",
    "Предобработка обнаружила три проблемы в данных:\n",
    "\n",
    "- нарушения в стиле заголовков,\n",
    "- пропущенные значения,\n",
    "- дубликаты — явные и неявные.\n",
    "\n",
    "Мы исправили заголовки, чтобы упростить работу с таблицей. Без дубликатов исследование станет более точным.\n",
    "\n",
    "Пропущенные значения мы заменили на `'unknown'`. Ещё предстоит увидеть, не повредят ли исследованию пропуски в колонке `genre`.\n",
    "\n",
    "Теперь можно перейти к проверке гипотез. "
   ]
  },
  {
   "cell_type": "markdown",
   "metadata": {
    "id": "WttZHXH0SqKk"
   },
   "source": [
    "## Проверка гипотез"
   ]
  },
  {
   "cell_type": "markdown",
   "metadata": {
    "id": "Im936VVi_Zcu"
   },
   "source": [
    "### Сравнение поведения пользователей двух столиц"
   ]
  },
  {
   "cell_type": "markdown",
   "metadata": {
    "id": "nwt_MuaL_Zcu"
   },
   "source": [
    "Первая гипотеза утверждает, что пользователи по-разному слушают музыку в Москве и Санкт-Петербурге. Проверим это предположение по данным о трёх днях недели — понедельнике, среде и пятнице. Для этого:\n",
    "* Разделим пользователей Москвы и Санкт-Петербурга.\n",
    "* Сравним, сколько треков послушала каждая группа пользователей в понедельник, среду и пятницу."
   ]
  },
  {
   "cell_type": "markdown",
   "metadata": {
    "id": "8Dw_YMmT_Zcu"
   },
   "source": [
    "Для тренировки сначала выполним каждый из расчётов по отдельности. \n",
    "\n",
    "Оценим активность пользователей в каждом городе. Сгруппируем данные по городу и посчитаем прослушивания в каждой группе."
   ]
  },
  {
   "cell_type": "code",
   "execution_count": 20,
   "metadata": {
    "id": "0_Qs96oh_Zcu"
   },
   "outputs": [
    {
     "data": {
      "text/plain": [
       "city\n",
       "Moscow              42741\n",
       "Saint-Petersburg    18512\n",
       "Name: user_id, dtype: int64"
      ]
     },
     "execution_count": 20,
     "metadata": {},
     "output_type": "execute_result"
    }
   ],
   "source": [
    "#Подсчёт прослушиваний в каждом городе.\n",
    "df.groupby('city')['user_id'].count()"
   ]
  },
  {
   "cell_type": "markdown",
   "metadata": {
    "id": "dzli3w8o_Zcu"
   },
   "source": [
    "В Москве прослушиваний больше, чем в Петербурге. Из этого не следует, что московские пользователи чаще слушают музыку. Просто самих пользователей в Москве больше.\n",
    "\n",
    "Теперь сгруппируем данные по дню недели и подсчитаем прослушивания в понедельник, среду и пятницу. Учитываем, что в данных есть информация о прослушиваниях только за эти дни."
   ]
  },
  {
   "cell_type": "code",
   "execution_count": 21,
   "metadata": {
    "id": "uZMKjiJz_Zcu"
   },
   "outputs": [
    {
     "data": {
      "text/plain": [
       "day\n",
       "Friday       21840\n",
       "Monday       21354\n",
       "Wednesday    18059\n",
       "Name: user_id, dtype: int64"
      ]
     },
     "execution_count": 21,
     "metadata": {},
     "output_type": "execute_result"
    }
   ],
   "source": [
    "#Подсчёт прослушиваний в каждый из трёх дней.\n",
    "df.groupby('day')['user_id'].count()"
   ]
  },
  {
   "cell_type": "markdown",
   "metadata": {
    "id": "cC2tNrlL_Zcu"
   },
   "source": [
    "В среднем пользователи из двух городов менее активны по средам. Но картина может измениться, если рассмотреть каждый город в отдельности."
   ]
  },
  {
   "cell_type": "markdown",
   "metadata": {
    "id": "POzs8bGa_Zcu"
   },
   "source": [
    "Напишем функцию, которая объединит подсчёт по городу и по дням недели.\n",
    "\n",
    "Создадим функцию `number_tracks()`, которая посчитает прослушивания для заданного дня и города. Ей понадобятся два параметра:\n",
    "* День недели.\n",
    "* Название города.\n",
    "\n",
    "В функции сохраним в переменную строки исходной таблицы, у которых значение:\n",
    "  * В колонке `day` равно параметру `day`,\n",
    "  * В колонке `city` равно параметру `city`.\n",
    "\n",
    "Для этого применим последовательную фильтрацию с логической индексацией.\n",
    "\n",
    "Затем посчитаем значения в столбце `user_id` получившейся таблицы. Результат сохраним в новую переменную."
   ]
  },
  {
   "cell_type": "code",
   "execution_count": 22,
   "metadata": {
    "id": "Nz3GdQB1_Zcu"
   },
   "outputs": [],
   "source": [
    "#Создаём функцию number_tracks.\n",
    "def number_tracks(day, city):.\n",
    "    track_list=df[(df['day']==day) & (df['city']==city)]\n",
    "    track_list_count = track_list['user_id'].count()\n",
    "    return track_list_count"
   ]
  },
  {
   "cell_type": "markdown",
   "metadata": {
    "id": "ytf7xFrFJQ2r"
   },
   "source": [
    "Вызовим `number_tracks()` шесть раз, меняя значение параметров — так, чтобы получить данные для каждого города в каждый из трёх дней."
   ]
  },
  {
   "cell_type": "code",
   "execution_count": 23,
   "metadata": {
    "id": "rJcRATNQ_Zcu"
   },
   "outputs": [
    {
     "data": {
      "text/plain": [
       "15740"
      ]
     },
     "execution_count": 23,
     "metadata": {},
     "output_type": "execute_result"
    }
   ],
   "source": [
    "#Количество прослушиваний в Москве по понедельникам.\n",
    "number_tracks('Monday', 'Moscow')"
   ]
  },
  {
   "cell_type": "code",
   "execution_count": 24,
   "metadata": {
    "id": "hq_ncZ5T_Zcu"
   },
   "outputs": [
    {
     "data": {
      "text/plain": [
       "5614"
      ]
     },
     "execution_count": 24,
     "metadata": {},
     "output_type": "execute_result"
    }
   ],
   "source": [
    "#Количество прослушиваний в Санкт-Петербурге по понедельникам.\n",
    "number_tracks('Monday', 'Saint-Petersburg')"
   ]
  },
  {
   "cell_type": "code",
   "execution_count": 25,
   "metadata": {
    "id": "_NTy2VPU_Zcu"
   },
   "outputs": [
    {
     "data": {
      "text/plain": [
       "11056"
      ]
     },
     "execution_count": 25,
     "metadata": {},
     "output_type": "execute_result"
    }
   ],
   "source": [
    "#Количество прослушиваний в Москве по средам.\n",
    "number_tracks('Wednesday', 'Moscow')"
   ]
  },
  {
   "cell_type": "code",
   "execution_count": 26,
   "metadata": {
    "id": "j2y3TAwo_Zcu"
   },
   "outputs": [
    {
     "data": {
      "text/plain": [
       "7003"
      ]
     },
     "execution_count": 26,
     "metadata": {},
     "output_type": "execute_result"
    }
   ],
   "source": [
    "#Количество прослушиваний в Санкт-Петербурге по средам.\n",
    "number_tracks('Wednesday', 'Saint-Petersburg')"
   ]
  },
  {
   "cell_type": "code",
   "execution_count": 27,
   "metadata": {
    "id": "vYDw5u_K_Zcu"
   },
   "outputs": [
    {
     "data": {
      "text/plain": [
       "15945"
      ]
     },
     "execution_count": 27,
     "metadata": {},
     "output_type": "execute_result"
    }
   ],
   "source": [
    "#Количество прослушиваний в Москве по пятницам.\n",
    "number_tracks('Friday', 'Moscow')"
   ]
  },
  {
   "cell_type": "code",
   "execution_count": 28,
   "metadata": {
    "id": "8_yzFtW3_Zcu"
   },
   "outputs": [
    {
     "data": {
      "text/plain": [
       "5895"
      ]
     },
     "execution_count": 28,
     "metadata": {},
     "output_type": "execute_result"
    }
   ],
   "source": [
    "#Количество прослушиваний в Санкт-Петербурге по пятницам.\n",
    "number_tracks('Friday', 'Saint-Petersburg')"
   ]
  },
  {
   "cell_type": "markdown",
   "metadata": {
    "id": "7QXffbO-_Zcu"
   },
   "source": [
    "Создадим c помощью конструктора `pd.DataFrame` таблицу, где:\n",
    "* Названия колонок — `['city', 'monday', 'wednesday', 'friday']`.\n",
    "* Данные — результаты, которые вы получили с помощью `number_tracks`."
   ]
  },
  {
   "cell_type": "code",
   "execution_count": 29,
   "metadata": {
    "id": "APAcLpOr_Zcu"
   },
   "outputs": [
    {
     "data": {
      "text/html": [
       "<div>\n",
       "<style scoped>\n",
       "    .dataframe tbody tr th:only-of-type {\n",
       "        vertical-align: middle;\n",
       "    }\n",
       "\n",
       "    .dataframe tbody tr th {\n",
       "        vertical-align: top;\n",
       "    }\n",
       "\n",
       "    .dataframe thead th {\n",
       "        text-align: right;\n",
       "    }\n",
       "</style>\n",
       "<table border=\"1\" class=\"dataframe\">\n",
       "  <thead>\n",
       "    <tr style=\"text-align: right;\">\n",
       "      <th></th>\n",
       "      <th>city</th>\n",
       "      <th>monday</th>\n",
       "      <th>wednesday</th>\n",
       "      <th>friday</th>\n",
       "    </tr>\n",
       "  </thead>\n",
       "  <tbody>\n",
       "    <tr>\n",
       "      <th>0</th>\n",
       "      <td>Moscow</td>\n",
       "      <td>15740</td>\n",
       "      <td>11056</td>\n",
       "      <td>15945</td>\n",
       "    </tr>\n",
       "    <tr>\n",
       "      <th>1</th>\n",
       "      <td>Saint-Petersburg</td>\n",
       "      <td>5614</td>\n",
       "      <td>7003</td>\n",
       "      <td>5895</td>\n",
       "    </tr>\n",
       "  </tbody>\n",
       "</table>\n",
       "</div>"
      ],
      "text/plain": [
       "               city  monday  wednesday  friday\n",
       "0            Moscow   15740      11056   15945\n",
       "1  Saint-Petersburg    5614       7003    5895"
      ]
     },
     "metadata": {},
     "output_type": "display_data"
    }
   ],
   "source": [
    "data = [['Moscow', 15740, 11056, 15945],\n",
    "        ['Saint-Petersburg', 5614, 7003, 5895]] \n",
    "columns = ['city', 'monday', 'wednesday', 'friday'] \n",
    "table = pd.DataFrame(data = data, columns = columns)\n",
    "\n",
    "#Таблица с результатами.\n",
    "display(table)"
   ]
  },
  {
   "cell_type": "markdown",
   "metadata": {
    "id": "-EgPIHYu_Zcu"
   },
   "source": [
    "**Выводы**\n",
    "\n",
    "Данные показывают разницу поведения пользователей:\n",
    "\n",
    "- В Москве пик прослушиваний приходится на понедельник и пятницу, а в среду заметен спад.\n",
    "- В Петербурге, наоборот, больше слушают музыку по средам. Активность в понедельник и пятницу здесь почти в равной мере уступает среде.\n",
    "\n",
    "Значит, данные говорят в пользу первой гипотезы."
   ]
  },
  {
   "cell_type": "markdown",
   "metadata": {
    "id": "atZAxtq4_Zcu"
   },
   "source": [
    "### Музыка в начале и в конце недели"
   ]
  },
  {
   "cell_type": "markdown",
   "metadata": {
    "id": "eXrQqXFH_Zcu"
   },
   "source": [
    "Согласно второй гипотезе, утром в понедельник в Москве преобладают одни жанры, а в Петербурге — другие. Так же и вечером пятницы преобладают разные жанры — в зависимости от города."
   ]
  },
  {
   "cell_type": "markdown",
   "metadata": {
    "id": "S8UcW6Hw_Zcu"
   },
   "source": [
    "Сохраним таблицы с данными в две переменные:\n",
    "* По Москве — в `moscow_general`.\n",
    "* По Санкт-Петербургу — в `spb_general`."
   ]
  },
  {
   "cell_type": "code",
   "execution_count": 30,
   "metadata": {
    "id": "qeaFfM_P_Zcu"
   },
   "outputs": [],
   "source": [
    "#Получение таблицы moscow_general из тех строк таблицы df\n",
    "#для которых значение в столбце 'city' равно 'Moscow'.\n",
    "moscow_general = df[df['city'] == 'Moscow']"
   ]
  },
  {
   "cell_type": "code",
   "execution_count": 31,
   "metadata": {
    "id": "ORaVRKto_Zcu"
   },
   "outputs": [],
   "source": [
    "#Получение таблицы spb_general из тех строк таблицы df\n",
    "#для которых значение в столбце 'city' равно 'Saint-Petersburg'.\n",
    "spb_general = df[df['city'] == 'Saint-Petersburg']\n"
   ]
  },
  {
   "cell_type": "markdown",
   "metadata": {
    "id": "MEJV-CX2_Zcu"
   },
   "source": [
    "Создадим функцию `genre_weekday()` с четырьмя параметрами:\n",
    "* Таблица (датафрейм) с данными,\n",
    "* День недели,\n",
    "* Начальная временная метка в формате 'hh:mm', \n",
    "* Последняя временная метка в формате 'hh:mm'.\n",
    "\n",
    "Функция должна вернуть информацию о топ-10 жанров тех треков, которые прослушивали в указанный день, в промежутке между двумя отметками времени."
   ]
  },
  {
   "cell_type": "code",
   "execution_count": 32,
   "metadata": {
    "id": "laJT9BYl_Zcu"
   },
   "outputs": [],
   "source": [
    "#Создаём функцию genre_weekday() с параметрами table, day, time1, time2,\n",
    "#которая возвращает информацию о самых популярных жанрах в указанный день в заданное время.\n",
    "def genre_weekday(table, day, time1, time2):\n",
    "    genre_df = table[table['day'] == day]\n",
    "    genre_df = genre_df[genre_df['time'] > time1]\n",
    "    genre_df = genre_df[genre_df['time'] < time2]\n",
    "    genre_df_count = genre_df.groupby('genre')['genre'].count()\n",
    "    genre_df_sorted = genre_df_count.sort_values(ascending=False)\n",
    "    return genre_df_sorted.head(10)"
   ]
  },
  {
   "cell_type": "markdown",
   "metadata": {
    "id": "la2s2_PF_Zcu"
   },
   "source": [
    "Cравним результаты функции `genre_weekday()` для Москвы и Санкт-Петербурга в понедельник утром (с 7:00 до 11:00) и в пятницу вечером (с 17:00 до 23:00):"
   ]
  },
  {
   "cell_type": "code",
   "execution_count": 33,
   "metadata": {
    "id": "yz7itPUQ_Zcu"
   },
   "outputs": [
    {
     "data": {
      "text/plain": [
       "genre\n",
       "pop            781\n",
       "dance          549\n",
       "electronic     480\n",
       "rock           474\n",
       "hiphop         286\n",
       "ruspop         186\n",
       "world          181\n",
       "rusrap         175\n",
       "alternative    164\n",
       "unknown        161\n",
       "Name: genre, dtype: int64"
      ]
     },
     "execution_count": 33,
     "metadata": {},
     "output_type": "execute_result"
    }
   ],
   "source": [
    "#Вызов функции для утра понедельника в Москве (вместо df — таблица moscow_general).\n",
    "genre_weekday(moscow_general, 'Monday', '07:00', '11:00')"
   ]
  },
  {
   "cell_type": "code",
   "execution_count": 34,
   "metadata": {
    "id": "kwUcHPdy_Zcu"
   },
   "outputs": [
    {
     "data": {
      "text/plain": [
       "genre\n",
       "pop            218\n",
       "dance          182\n",
       "rock           162\n",
       "electronic     147\n",
       "hiphop          80\n",
       "ruspop          64\n",
       "alternative     58\n",
       "rusrap          55\n",
       "jazz            44\n",
       "classical       40\n",
       "Name: genre, dtype: int64"
      ]
     },
     "execution_count": 34,
     "metadata": {},
     "output_type": "execute_result"
    }
   ],
   "source": [
    "#Вызов функции для утра понедельника в Петербурге (вместо df — таблица spb_general).\n",
    "genre_weekday(spb_general, 'Monday', '07:00', '11:00')"
   ]
  },
  {
   "cell_type": "code",
   "execution_count": 35,
   "metadata": {
    "id": "EzXVRE1o_Zcu"
   },
   "outputs": [
    {
     "data": {
      "text/plain": [
       "genre\n",
       "pop            713\n",
       "rock           517\n",
       "dance          495\n",
       "electronic     482\n",
       "hiphop         273\n",
       "world          208\n",
       "ruspop         170\n",
       "alternative    163\n",
       "classical      163\n",
       "rusrap         142\n",
       "Name: genre, dtype: int64"
      ]
     },
     "execution_count": 35,
     "metadata": {},
     "output_type": "execute_result"
    }
   ],
   "source": [
    "#Вызов функции для вечера пятницы в Москве.\n",
    "genre_weekday(moscow_general, 'Friday', '17:00', '23:00')"
   ]
  },
  {
   "cell_type": "code",
   "execution_count": 36,
   "metadata": {
    "id": "JZaEKu5v_Zcu"
   },
   "outputs": [
    {
     "data": {
      "text/plain": [
       "genre\n",
       "pop            256\n",
       "electronic     216\n",
       "rock           216\n",
       "dance          210\n",
       "hiphop          97\n",
       "alternative     63\n",
       "jazz            61\n",
       "classical       60\n",
       "rusrap          59\n",
       "world           54\n",
       "Name: genre, dtype: int64"
      ]
     },
     "execution_count": 36,
     "metadata": {},
     "output_type": "execute_result"
    }
   ],
   "source": [
    "#Вызов функции для вечера пятницы в Петербурге.\n",
    "genre_weekday(spb_general, 'Friday', '17:00', '23:00')"
   ]
  },
  {
   "cell_type": "markdown",
   "metadata": {
    "id": "wrCe4MNX_Zcu"
   },
   "source": [
    "**Выводы**\n",
    "\n",
    "Если сравнить топ-10 жанров в понедельник утром, можно сделать такие выводы:\n",
    "\n",
    "1. В Москве и Петербурге слушают похожую музыку. Единственное отличие — в московский рейтинг вошёл жанр “world”, а в петербургский — джаз и классика.\n",
    "\n",
    "2. В Москве пропущенных значений оказалось так много, что значение `'unknown'` заняло десятое место среди самых популярных жанров. Значит, пропущенные значения занимают существенную долю в данных и угрожают достоверности исследования.\n",
    "\n",
    "Вечер пятницы не меняет эту картину. Некоторые жанры поднимаются немного выше, другие спускаются, но в целом топ-10 остаётся тем же самым.\n",
    "\n",
    "Таким образом, вторая гипотеза подтвердилась лишь частично:\n",
    "* Пользователи слушают похожую музыку в начале недели и в конце.\n",
    "* Разница между Москвой и Петербургом не слишком выражена. В Москве чаще слушают русскую популярную музыку, в Петербурге — джаз.\n",
    "\n",
    "Однако пропуски в данных ставят под сомнение этот результат. В Москве их так много, что рейтинг топ-10 мог бы выглядеть иначе, если бы не утерянные  данные о жанрах."
   ]
  },
  {
   "cell_type": "markdown",
   "metadata": {
    "id": "JolODAqr_Zcu"
   },
   "source": [
    "### Жанровые предпочтения в Москве и Петербурге\n",
    "\n",
    "Гипотеза: Петербург — столица рэпа, музыку этого жанра там слушают чаще, чем в Москве.  А Москва — город контрастов, в котором, тем не менее, преобладает поп-музыка."
   ]
  },
  {
   "cell_type": "markdown",
   "metadata": {
    "id": "DlegSvaT_Zcu"
   },
   "source": [
    "Сгруппируем таблицу `moscow_general` по жанру и посчитайте прослушивания треков каждого жанра методом `count()`. Затем отсортируем результат в порядке убывания и сохраните его в таблице `moscow_genres`."
   ]
  },
  {
   "cell_type": "code",
   "execution_count": 37,
   "metadata": {
    "id": "r19lIPke_Zcu"
   },
   "outputs": [],
   "source": [
    "#Группировка таблицы moscow_general по столбцу 'genre' с подсчётом числа значений 'genre' в этой группировке.\n",
    "moscow_genres = moscow_general.groupby('genre')['genre'].count().sort_values(ascending=False)"
   ]
  },
  {
   "cell_type": "markdown",
   "metadata": {
    "id": "6kMuomxTiIr8"
   },
   "source": [
    "Выведем на экран первые десять строк `moscow_genres`:"
   ]
  },
  {
   "cell_type": "code",
   "execution_count": 38,
   "metadata": {
    "id": "WhCSooF8_Zcv"
   },
   "outputs": [
    {
     "data": {
      "text/plain": [
       "genre\n",
       "pop            5892\n",
       "dance          4435\n",
       "rock           3965\n",
       "electronic     3786\n",
       "hiphop         2096\n",
       "classical      1616\n",
       "world          1432\n",
       "alternative    1379\n",
       "ruspop         1372\n",
       "rusrap         1161\n",
       "Name: genre, dtype: int64"
      ]
     },
     "metadata": {},
     "output_type": "display_data"
    }
   ],
   "source": [
    "#Просмотр первых 10 строк moscow_genres.\n",
    "display(moscow_genres.head(10))"
   ]
  },
  {
   "cell_type": "markdown",
   "metadata": {
    "id": "cnPG2vnN_Zcv"
   },
   "source": [
    "Теперь повторим то же и для Петербурга.\n",
    "\n",
    "Сгруппируем таблицу `spb_general` по жанру. Посчитаем прослушивания треков каждого жанра. Результат отсортируем в порядке убывания и сохраним в таблице `spb_genres`:"
   ]
  },
  {
   "cell_type": "code",
   "execution_count": 39,
   "metadata": {
    "id": "gluLIpE7_Zcv"
   },
   "outputs": [],
   "source": [
    "#Группировка таблицы spb_general по столбцу 'genre' с подсчётом числа значений 'genre' в этой группировке.\n",
    "spb_genres = spb_general.groupby('genre')['genre'].count().sort_values(ascending=False)"
   ]
  },
  {
   "cell_type": "markdown",
   "metadata": {
    "id": "5Doha_ODgyQ8"
   },
   "source": [
    "Выведем на экран первые десять строк `spb_genres`:"
   ]
  },
  {
   "cell_type": "code",
   "execution_count": 40,
   "metadata": {
    "id": "uaGJHjVU_Zcv"
   },
   "outputs": [
    {
     "data": {
      "text/plain": [
       "genre\n",
       "pop            2431\n",
       "dance          1932\n",
       "rock           1879\n",
       "electronic     1736\n",
       "hiphop          960\n",
       "alternative     649\n",
       "classical       646\n",
       "rusrap          564\n",
       "ruspop          538\n",
       "world           515\n",
       "Name: genre, dtype: int64"
      ]
     },
     "metadata": {},
     "output_type": "display_data"
    }
   ],
   "source": [
    "#Просмотр первых 10 строк spb_genres.\n",
    "display(spb_genres.head(10))"
   ]
  },
  {
   "cell_type": "markdown",
   "metadata": {
    "id": "RY51YJYu_Zcv"
   },
   "source": [
    "**Выводы**"
   ]
  },
  {
   "cell_type": "markdown",
   "metadata": {
    "id": "nVhnJEm__Zcv"
   },
   "source": [
    "Гипотеза частично подтвердилась:\n",
    "* Поп-музыка — самый популярный жанр в Москве, как и предполагала гипотеза. Более того, в топ-10 жанров встречается близкий жанр — русская популярная музыка.\n",
    "* Вопреки ожиданиям, рэп одинаково популярен в Москве и Петербурге. \n"
   ]
  },
  {
   "cell_type": "markdown",
   "metadata": {
    "id": "ykKQ0N65_Zcv"
   },
   "source": [
    "## Итоги исследования"
   ]
  },
  {
   "cell_type": "markdown",
   "metadata": {
    "id": "tjUwbHb3_Zcv"
   },
   "source": [
    "Мы проверили три гипотезы и установили:\n",
    "\n",
    "1. День недели по-разному влияет на активность пользователей в Москве и Петербурге. \n",
    "\n",
    "Первая гипотеза полностью подтвердилась.\n",
    "\n",
    "2. Музыкальные предпочтения не сильно меняются в течение недели — будь то Москва или Петербург. Небольшие различия заметны в начале недели, по понедельникам:\n",
    "* в Москве слушают музыку жанра “world”,\n",
    "* в Петербурге — джаз и классику.\n",
    "\n",
    "Таким образом, вторая гипотеза подтвердилась лишь отчасти.\n",
    "\n",
    "3. Во вкусах пользователей Москвы и Петербурга больше общего чем различий. Вопреки ожиданиям, предпочтения жанров в Петербурге напоминают московские.\n",
    "\n",
    "Третья гипотеза не подтвердилась. Если различия в предпочтениях и существуют, на основной массе пользователей они незаметны."
   ]
  }
 ],
 "metadata": {
  "ExecuteTimeLog": [
   {
    "duration": 451,
    "start_time": "2022-05-14T19:03:23.408Z"
   },
   {
    "duration": 155,
    "start_time": "2022-05-14T19:04:18.510Z"
   },
   {
    "duration": 4,
    "start_time": "2022-05-14T19:04:47.732Z"
   },
   {
    "duration": 4,
    "start_time": "2022-05-14T19:04:50.704Z"
   },
   {
    "duration": 4,
    "start_time": "2022-05-14T19:04:57.083Z"
   },
   {
    "duration": 81,
    "start_time": "2022-05-14T19:05:00.689Z"
   },
   {
    "duration": 8,
    "start_time": "2022-05-14T19:07:32.223Z"
   },
   {
    "duration": 8,
    "start_time": "2022-05-14T19:08:24.085Z"
   },
   {
    "duration": 9,
    "start_time": "2022-05-14T19:08:32.062Z"
   },
   {
    "duration": 277,
    "start_time": "2022-05-14T19:10:32.927Z"
   },
   {
    "duration": 36,
    "start_time": "2022-05-14T19:10:36.491Z"
   },
   {
    "duration": 46,
    "start_time": "2022-05-14T19:12:31.255Z"
   },
   {
    "duration": 68,
    "start_time": "2022-05-15T11:36:32.371Z"
   },
   {
    "duration": 8,
    "start_time": "2022-05-15T11:37:25.825Z"
   },
   {
    "duration": 9,
    "start_time": "2022-05-15T11:37:57.455Z"
   },
   {
    "duration": 9,
    "start_time": "2022-05-15T11:39:20.064Z"
   },
   {
    "duration": 8,
    "start_time": "2022-05-15T11:40:12.741Z"
   },
   {
    "duration": 527,
    "start_time": "2022-05-15T11:40:29.121Z"
   },
   {
    "duration": 199,
    "start_time": "2022-05-15T11:40:32.039Z"
   },
   {
    "duration": 26,
    "start_time": "2022-05-15T11:40:34.600Z"
   },
   {
    "duration": 42,
    "start_time": "2022-05-15T11:40:37.574Z"
   },
   {
    "duration": 42,
    "start_time": "2022-05-15T11:40:41.966Z"
   },
   {
    "duration": 12,
    "start_time": "2022-05-15T11:41:06.545Z"
   },
   {
    "duration": 14,
    "start_time": "2022-05-15T11:45:06.048Z"
   },
   {
    "duration": 6,
    "start_time": "2022-05-15T11:45:40.665Z"
   },
   {
    "duration": 6,
    "start_time": "2022-05-15T11:45:50.731Z"
   },
   {
    "duration": 18,
    "start_time": "2022-05-15T11:48:48.487Z"
   },
   {
    "duration": 13,
    "start_time": "2022-05-15T11:48:53.852Z"
   },
   {
    "duration": 6,
    "start_time": "2022-05-15T11:49:13.719Z"
   },
   {
    "duration": 9,
    "start_time": "2022-05-15T11:52:19.461Z"
   },
   {
    "duration": 35,
    "start_time": "2022-05-15T11:52:31.869Z"
   },
   {
    "duration": 28,
    "start_time": "2022-05-15T11:56:34.732Z"
   },
   {
    "duration": 34,
    "start_time": "2022-05-15T11:56:49.225Z"
   },
   {
    "duration": 94,
    "start_time": "2022-05-15T11:57:52.045Z"
   },
   {
    "duration": 114,
    "start_time": "2022-05-15T11:58:50.989Z"
   },
   {
    "duration": 81,
    "start_time": "2022-05-15T11:59:04.745Z"
   },
   {
    "duration": 9,
    "start_time": "2022-05-15T12:01:43.689Z"
   },
   {
    "duration": 5,
    "start_time": "2022-05-15T12:07:10.451Z"
   },
   {
    "duration": 5,
    "start_time": "2022-05-15T12:11:06.003Z"
   },
   {
    "duration": 12,
    "start_time": "2022-05-15T12:12:29.056Z"
   },
   {
    "duration": 4,
    "start_time": "2022-05-15T12:12:47.947Z"
   },
   {
    "duration": 11,
    "start_time": "2022-05-15T12:13:20.373Z"
   },
   {
    "duration": 4,
    "start_time": "2022-05-15T12:13:32.095Z"
   },
   {
    "duration": 10,
    "start_time": "2022-05-15T12:13:35.197Z"
   },
   {
    "duration": 13,
    "start_time": "2022-05-15T12:14:29.386Z"
   },
   {
    "duration": 10,
    "start_time": "2022-05-15T12:14:32.944Z"
   },
   {
    "duration": 49,
    "start_time": "2022-05-15T12:17:37.340Z"
   },
   {
    "duration": 15,
    "start_time": "2022-05-15T12:18:14.998Z"
   },
   {
    "duration": 53,
    "start_time": "2022-05-15T12:18:45.470Z"
   },
   {
    "duration": 5,
    "start_time": "2022-05-15T12:22:18.157Z"
   },
   {
    "duration": 32,
    "start_time": "2022-05-15T12:22:42.518Z"
   },
   {
    "duration": 29,
    "start_time": "2022-05-15T12:22:54.179Z"
   },
   {
    "duration": 21,
    "start_time": "2022-05-15T12:23:05.243Z"
   },
   {
    "duration": 19,
    "start_time": "2022-05-15T12:23:17.135Z"
   },
   {
    "duration": 23,
    "start_time": "2022-05-15T12:23:29.588Z"
   },
   {
    "duration": 19,
    "start_time": "2022-05-15T12:23:36.429Z"
   },
   {
    "duration": 8,
    "start_time": "2022-05-15T12:24:23.248Z"
   },
   {
    "duration": 9,
    "start_time": "2022-05-15T12:25:00.962Z"
   },
   {
    "duration": 21,
    "start_time": "2022-05-15T12:25:18.446Z"
   },
   {
    "duration": 15,
    "start_time": "2022-05-15T12:25:55.489Z"
   },
   {
    "duration": 14,
    "start_time": "2022-05-15T12:26:15.354Z"
   },
   {
    "duration": 12,
    "start_time": "2022-05-15T12:26:49.762Z"
   },
   {
    "duration": 30,
    "start_time": "2022-05-15T12:28:14.537Z"
   },
   {
    "duration": 18,
    "start_time": "2022-05-15T12:28:58.327Z"
   },
   {
    "duration": 13,
    "start_time": "2022-05-15T12:29:00.651Z"
   },
   {
    "duration": 6,
    "start_time": "2022-05-15T12:31:24.852Z"
   },
   {
    "duration": 40,
    "start_time": "2022-05-15T12:34:16.578Z"
   },
   {
    "duration": 27,
    "start_time": "2022-05-15T12:34:48.746Z"
   },
   {
    "duration": 35,
    "start_time": "2022-05-15T12:35:06.327Z"
   },
   {
    "duration": 22,
    "start_time": "2022-05-15T12:35:18.615Z"
   },
   {
    "duration": 16,
    "start_time": "2022-05-15T12:50:09.433Z"
   },
   {
    "duration": 7,
    "start_time": "2022-05-15T12:51:19.551Z"
   },
   {
    "duration": 14,
    "start_time": "2022-05-15T12:53:55.962Z"
   },
   {
    "duration": 20,
    "start_time": "2022-05-15T12:54:12.353Z"
   },
   {
    "duration": 14,
    "start_time": "2022-05-15T12:55:39.565Z"
   },
   {
    "duration": 14,
    "start_time": "2022-05-15T12:55:43.403Z"
   },
   {
    "duration": 11,
    "start_time": "2022-05-15T12:55:50.862Z"
   },
   {
    "duration": 18,
    "start_time": "2022-05-15T12:56:13.059Z"
   },
   {
    "duration": 6,
    "start_time": "2022-05-15T12:56:15.644Z"
   },
   {
    "duration": 18,
    "start_time": "2022-05-15T12:57:31.809Z"
   },
   {
    "duration": 7,
    "start_time": "2022-05-15T12:57:34.281Z"
   },
   {
    "duration": 15,
    "start_time": "2022-05-15T12:58:00.010Z"
   },
   {
    "duration": 7,
    "start_time": "2022-05-15T12:58:03.794Z"
   },
   {
    "duration": 20,
    "start_time": "2022-05-15T12:58:49.950Z"
   },
   {
    "duration": 10,
    "start_time": "2022-05-15T12:59:00.668Z"
   },
   {
    "duration": 8,
    "start_time": "2022-05-15T12:59:23.478Z"
   },
   {
    "duration": 8,
    "start_time": "2022-05-15T12:59:41.777Z"
   },
   {
    "duration": 462,
    "start_time": "2022-05-16T08:55:32.871Z"
   },
   {
    "duration": 204,
    "start_time": "2022-05-16T08:55:33.335Z"
   },
   {
    "duration": 26,
    "start_time": "2022-05-16T08:55:33.541Z"
   },
   {
    "duration": 42,
    "start_time": "2022-05-16T08:55:33.569Z"
   },
   {
    "duration": 6,
    "start_time": "2022-05-16T08:55:33.613Z"
   },
   {
    "duration": 41,
    "start_time": "2022-05-16T08:55:33.620Z"
   },
   {
    "duration": 10,
    "start_time": "2022-05-16T08:55:33.664Z"
   },
   {
    "duration": 37,
    "start_time": "2022-05-16T08:55:33.676Z"
   },
   {
    "duration": 35,
    "start_time": "2022-05-16T08:55:33.714Z"
   },
   {
    "duration": 41,
    "start_time": "2022-05-16T08:55:33.750Z"
   },
   {
    "duration": 105,
    "start_time": "2022-05-16T08:55:33.793Z"
   },
   {
    "duration": 109,
    "start_time": "2022-05-16T08:55:33.900Z"
   },
   {
    "duration": 86,
    "start_time": "2022-05-16T08:55:34.010Z"
   },
   {
    "duration": 7,
    "start_time": "2022-05-16T08:55:34.101Z"
   },
   {
    "duration": 4,
    "start_time": "2022-05-16T08:55:34.110Z"
   },
   {
    "duration": 14,
    "start_time": "2022-05-16T08:55:34.116Z"
   },
   {
    "duration": 32,
    "start_time": "2022-05-16T08:55:34.132Z"
   },
   {
    "duration": 45,
    "start_time": "2022-05-16T08:55:34.167Z"
   },
   {
    "duration": 65,
    "start_time": "2022-05-16T08:55:34.214Z"
   },
   {
    "duration": 4,
    "start_time": "2022-05-16T08:55:34.280Z"
   },
   {
    "duration": 26,
    "start_time": "2022-05-16T08:55:34.286Z"
   },
   {
    "duration": 15,
    "start_time": "2022-05-16T08:55:34.314Z"
   },
   {
    "duration": 38,
    "start_time": "2022-05-16T08:55:34.331Z"
   },
   {
    "duration": 28,
    "start_time": "2022-05-16T08:55:34.370Z"
   },
   {
    "duration": 25,
    "start_time": "2022-05-16T08:55:34.400Z"
   },
   {
    "duration": 34,
    "start_time": "2022-05-16T08:55:34.427Z"
   },
   {
    "duration": 14,
    "start_time": "2022-05-16T08:55:34.464Z"
   },
   {
    "duration": 26,
    "start_time": "2022-05-16T08:55:34.481Z"
   },
   {
    "duration": 13,
    "start_time": "2022-05-16T08:55:34.509Z"
   },
   {
    "duration": 5,
    "start_time": "2022-05-16T08:55:34.524Z"
   },
   {
    "duration": 52,
    "start_time": "2022-05-16T08:55:34.532Z"
   },
   {
    "duration": 15,
    "start_time": "2022-05-16T08:55:34.587Z"
   },
   {
    "duration": 19,
    "start_time": "2022-05-16T08:55:34.605Z"
   },
   {
    "duration": 14,
    "start_time": "2022-05-16T08:55:34.656Z"
   },
   {
    "duration": 11,
    "start_time": "2022-05-16T08:55:34.673Z"
   },
   {
    "duration": 5,
    "start_time": "2022-05-16T08:55:34.687Z"
   },
   {
    "duration": 10,
    "start_time": "2022-05-16T08:55:34.694Z"
   },
   {
    "duration": 10,
    "start_time": "2022-05-16T08:55:34.705Z"
   },
   {
    "duration": 50,
    "start_time": "2022-05-16T18:54:19.822Z"
   },
   {
    "duration": 6,
    "start_time": "2022-05-16T18:54:43.067Z"
   },
   {
    "duration": 467,
    "start_time": "2022-05-16T18:55:02.751Z"
   },
   {
    "duration": 159,
    "start_time": "2022-05-16T18:55:03.219Z"
   },
   {
    "duration": 17,
    "start_time": "2022-05-16T18:55:03.380Z"
   },
   {
    "duration": 51,
    "start_time": "2022-05-16T18:55:03.399Z"
   },
   {
    "duration": 5,
    "start_time": "2022-05-16T18:55:03.452Z"
   },
   {
    "duration": 15,
    "start_time": "2022-05-16T18:55:03.458Z"
   },
   {
    "duration": 9,
    "start_time": "2022-05-16T18:55:03.474Z"
   },
   {
    "duration": 27,
    "start_time": "2022-05-16T18:55:03.484Z"
   },
   {
    "duration": 38,
    "start_time": "2022-05-16T18:55:03.513Z"
   },
   {
    "duration": 26,
    "start_time": "2022-05-16T18:55:03.553Z"
   },
   {
    "duration": 78,
    "start_time": "2022-05-16T18:55:03.581Z"
   },
   {
    "duration": 74,
    "start_time": "2022-05-16T18:55:03.660Z"
   },
   {
    "duration": 62,
    "start_time": "2022-05-16T18:55:09.910Z"
   },
   {
    "duration": 6,
    "start_time": "2022-05-16T18:55:09.974Z"
   },
   {
    "duration": 4,
    "start_time": "2022-05-16T18:55:09.982Z"
   },
   {
    "duration": 13,
    "start_time": "2022-05-16T18:55:09.988Z"
   },
   {
    "duration": 10,
    "start_time": "2022-05-16T18:55:10.002Z"
   },
   {
    "duration": 61,
    "start_time": "2022-05-16T18:55:10.013Z"
   },
   {
    "duration": 35,
    "start_time": "2022-05-16T18:55:10.076Z"
   },
   {
    "duration": 4,
    "start_time": "2022-05-16T18:55:10.112Z"
   },
   {
    "duration": 37,
    "start_time": "2022-05-16T18:55:10.118Z"
   },
   {
    "duration": 14,
    "start_time": "2022-05-16T18:55:10.158Z"
   },
   {
    "duration": 15,
    "start_time": "2022-05-16T18:55:10.174Z"
   },
   {
    "duration": 14,
    "start_time": "2022-05-16T18:55:10.191Z"
   },
   {
    "duration": 45,
    "start_time": "2022-05-16T18:55:10.207Z"
   },
   {
    "duration": 15,
    "start_time": "2022-05-16T18:55:10.253Z"
   },
   {
    "duration": 8,
    "start_time": "2022-05-16T18:55:10.270Z"
   },
   {
    "duration": 13,
    "start_time": "2022-05-16T18:55:10.280Z"
   },
   {
    "duration": 10,
    "start_time": "2022-05-16T18:55:10.295Z"
   },
   {
    "duration": 4,
    "start_time": "2022-05-16T18:55:10.307Z"
   },
   {
    "duration": 51,
    "start_time": "2022-05-16T18:55:10.313Z"
   },
   {
    "duration": 14,
    "start_time": "2022-05-16T18:55:10.365Z"
   },
   {
    "duration": 18,
    "start_time": "2022-05-16T18:55:10.380Z"
   },
   {
    "duration": 12,
    "start_time": "2022-05-16T18:55:10.400Z"
   },
   {
    "duration": 42,
    "start_time": "2022-05-16T18:55:10.414Z"
   },
   {
    "duration": 5,
    "start_time": "2022-05-16T18:55:10.458Z"
   },
   {
    "duration": 7,
    "start_time": "2022-05-16T18:55:10.465Z"
   },
   {
    "duration": 6,
    "start_time": "2022-05-16T18:55:10.473Z"
   },
   {
    "duration": 2,
    "start_time": "2022-05-16T18:56:42.912Z"
   },
   {
    "duration": 164,
    "start_time": "2022-05-16T18:56:42.922Z"
   },
   {
    "duration": 12,
    "start_time": "2022-05-16T18:56:43.088Z"
   },
   {
    "duration": 36,
    "start_time": "2022-05-16T18:56:43.101Z"
   },
   {
    "duration": 12,
    "start_time": "2022-05-16T18:56:43.139Z"
   },
   {
    "duration": 9,
    "start_time": "2022-05-16T18:56:43.154Z"
   },
   {
    "duration": 4,
    "start_time": "2022-05-16T18:56:43.165Z"
   },
   {
    "duration": 29,
    "start_time": "2022-05-16T18:56:43.171Z"
   },
   {
    "duration": 60,
    "start_time": "2022-05-16T18:56:43.202Z"
   },
   {
    "duration": 26,
    "start_time": "2022-05-16T18:56:43.264Z"
   },
   {
    "duration": 81,
    "start_time": "2022-05-16T18:56:43.292Z"
   },
   {
    "duration": 75,
    "start_time": "2022-05-16T18:56:43.375Z"
   },
   {
    "duration": 54,
    "start_time": "2022-05-16T18:56:43.452Z"
   },
   {
    "duration": 6,
    "start_time": "2022-05-16T18:56:43.508Z"
   },
   {
    "duration": 3,
    "start_time": "2022-05-16T18:56:46.971Z"
   },
   {
    "duration": 257,
    "start_time": "2022-05-16T18:58:09.939Z"
   },
   {
    "duration": 201,
    "start_time": "2022-05-16T18:58:47.476Z"
   },
   {
    "duration": 8,
    "start_time": "2022-05-16T18:58:52.887Z"
   },
   {
    "duration": 13,
    "start_time": "2022-05-16T18:59:07.686Z"
   },
   {
    "duration": 12,
    "start_time": "2022-05-16T18:59:43.481Z"
   },
   {
    "duration": 3,
    "start_time": "2022-05-16T19:02:20.031Z"
   },
   {
    "duration": 4,
    "start_time": "2022-05-16T19:04:53.165Z"
   },
   {
    "duration": 427,
    "start_time": "2022-05-17T12:43:04.940Z"
   },
   {
    "duration": 155,
    "start_time": "2022-05-17T12:43:05.369Z"
   },
   {
    "duration": 17,
    "start_time": "2022-05-17T12:43:05.526Z"
   },
   {
    "duration": 39,
    "start_time": "2022-05-17T12:43:05.545Z"
   },
   {
    "duration": 8,
    "start_time": "2022-05-17T12:43:05.585Z"
   },
   {
    "duration": 17,
    "start_time": "2022-05-17T12:43:05.594Z"
   },
   {
    "duration": 16,
    "start_time": "2022-05-17T12:43:05.612Z"
   },
   {
    "duration": 26,
    "start_time": "2022-05-17T12:43:05.629Z"
   },
   {
    "duration": 21,
    "start_time": "2022-05-17T12:43:05.657Z"
   },
   {
    "duration": 25,
    "start_time": "2022-05-17T12:43:05.681Z"
   },
   {
    "duration": 81,
    "start_time": "2022-05-17T12:43:05.708Z"
   },
   {
    "duration": 96,
    "start_time": "2022-05-17T12:43:05.791Z"
   },
   {
    "duration": 56,
    "start_time": "2022-05-17T12:43:05.889Z"
   },
   {
    "duration": 21,
    "start_time": "2022-05-17T12:43:05.947Z"
   },
   {
    "duration": 5,
    "start_time": "2022-05-17T12:43:05.970Z"
   },
   {
    "duration": 27,
    "start_time": "2022-05-17T12:43:05.977Z"
   },
   {
    "duration": 7,
    "start_time": "2022-05-17T12:43:06.005Z"
   },
   {
    "duration": 20,
    "start_time": "2022-05-17T12:43:06.013Z"
   },
   {
    "duration": 29,
    "start_time": "2022-05-17T12:43:06.034Z"
   },
   {
    "duration": 4,
    "start_time": "2022-05-17T12:43:06.064Z"
   },
   {
    "duration": 22,
    "start_time": "2022-05-17T12:43:06.069Z"
   },
   {
    "duration": 14,
    "start_time": "2022-05-17T12:43:06.093Z"
   },
   {
    "duration": 17,
    "start_time": "2022-05-17T12:43:06.109Z"
   },
   {
    "duration": 35,
    "start_time": "2022-05-17T12:43:06.127Z"
   },
   {
    "duration": 16,
    "start_time": "2022-05-17T12:43:06.166Z"
   },
   {
    "duration": 14,
    "start_time": "2022-05-17T12:43:06.183Z"
   },
   {
    "duration": 11,
    "start_time": "2022-05-17T12:43:06.199Z"
   },
   {
    "duration": 12,
    "start_time": "2022-05-17T12:43:06.213Z"
   },
   {
    "duration": 38,
    "start_time": "2022-05-17T12:43:06.226Z"
   },
   {
    "duration": 5,
    "start_time": "2022-05-17T12:43:06.266Z"
   },
   {
    "duration": 26,
    "start_time": "2022-05-17T12:43:06.273Z"
   },
   {
    "duration": 13,
    "start_time": "2022-05-17T12:43:06.301Z"
   },
   {
    "duration": 19,
    "start_time": "2022-05-17T12:43:06.316Z"
   },
   {
    "duration": 49,
    "start_time": "2022-05-17T12:43:06.336Z"
   },
   {
    "duration": 8,
    "start_time": "2022-05-17T12:43:06.387Z"
   },
   {
    "duration": 10,
    "start_time": "2022-05-17T12:43:06.397Z"
   },
   {
    "duration": 11,
    "start_time": "2022-05-17T12:43:06.408Z"
   },
   {
    "duration": 9,
    "start_time": "2022-05-17T12:43:06.421Z"
   },
   {
    "duration": 8,
    "start_time": "2022-05-19T10:26:48.620Z"
   },
   {
    "duration": 422,
    "start_time": "2022-05-19T15:28:05.974Z"
   },
   {
    "duration": 190,
    "start_time": "2022-05-19T15:28:06.398Z"
   },
   {
    "duration": 18,
    "start_time": "2022-05-19T15:28:06.589Z"
   },
   {
    "duration": 28,
    "start_time": "2022-05-19T15:28:06.609Z"
   },
   {
    "duration": 4,
    "start_time": "2022-05-19T15:28:06.638Z"
   },
   {
    "duration": 12,
    "start_time": "2022-05-19T15:28:06.652Z"
   },
   {
    "duration": 6,
    "start_time": "2022-05-19T15:28:06.666Z"
   },
   {
    "duration": 23,
    "start_time": "2022-05-19T15:28:06.674Z"
   },
   {
    "duration": 17,
    "start_time": "2022-05-19T15:28:06.698Z"
   },
   {
    "duration": 42,
    "start_time": "2022-05-19T15:28:06.718Z"
   },
   {
    "duration": 64,
    "start_time": "2022-05-19T15:28:06.762Z"
   },
   {
    "duration": 88,
    "start_time": "2022-05-19T15:28:06.828Z"
   },
   {
    "duration": 67,
    "start_time": "2022-05-19T15:28:06.918Z"
   },
   {
    "duration": 6,
    "start_time": "2022-05-19T15:28:06.986Z"
   },
   {
    "duration": 5,
    "start_time": "2022-05-19T15:28:06.994Z"
   },
   {
    "duration": 29,
    "start_time": "2022-05-19T15:28:07.001Z"
   },
   {
    "duration": 6,
    "start_time": "2022-05-19T15:28:07.032Z"
   },
   {
    "duration": 16,
    "start_time": "2022-05-19T15:28:07.052Z"
   },
   {
    "duration": 11,
    "start_time": "2022-05-19T15:28:07.069Z"
   },
   {
    "duration": 3,
    "start_time": "2022-05-19T15:28:07.081Z"
   },
   {
    "duration": 23,
    "start_time": "2022-05-19T15:28:07.086Z"
   },
   {
    "duration": 14,
    "start_time": "2022-05-19T15:28:07.111Z"
   },
   {
    "duration": 14,
    "start_time": "2022-05-19T15:28:07.152Z"
   },
   {
    "duration": 17,
    "start_time": "2022-05-19T15:28:07.167Z"
   },
   {
    "duration": 16,
    "start_time": "2022-05-19T15:28:07.186Z"
   },
   {
    "duration": 17,
    "start_time": "2022-05-19T15:28:07.203Z"
   },
   {
    "duration": 32,
    "start_time": "2022-05-19T15:28:07.221Z"
   },
   {
    "duration": 14,
    "start_time": "2022-05-19T15:28:07.256Z"
   },
   {
    "duration": 13,
    "start_time": "2022-05-19T15:28:07.272Z"
   },
   {
    "duration": 4,
    "start_time": "2022-05-19T15:28:07.286Z"
   },
   {
    "duration": 27,
    "start_time": "2022-05-19T15:28:07.291Z"
   },
   {
    "duration": 11,
    "start_time": "2022-05-19T15:28:07.319Z"
   },
   {
    "duration": 29,
    "start_time": "2022-05-19T15:28:07.332Z"
   },
   {
    "duration": 14,
    "start_time": "2022-05-19T15:28:07.362Z"
   },
   {
    "duration": 7,
    "start_time": "2022-05-19T15:28:07.378Z"
   },
   {
    "duration": 4,
    "start_time": "2022-05-19T15:28:07.386Z"
   },
   {
    "duration": 12,
    "start_time": "2022-05-19T15:28:07.392Z"
   },
   {
    "duration": 5,
    "start_time": "2022-05-19T15:28:07.406Z"
   },
   {
    "duration": 448,
    "start_time": "2022-05-20T10:18:22.812Z"
   },
   {
    "duration": 292,
    "start_time": "2022-05-20T10:18:23.262Z"
   },
   {
    "duration": 30,
    "start_time": "2022-05-20T10:18:23.556Z"
   },
   {
    "duration": 64,
    "start_time": "2022-05-20T10:18:23.588Z"
   },
   {
    "duration": 5,
    "start_time": "2022-05-20T10:18:23.654Z"
   },
   {
    "duration": 53,
    "start_time": "2022-05-20T10:18:23.661Z"
   },
   {
    "duration": 10,
    "start_time": "2022-05-20T10:18:23.716Z"
   },
   {
    "duration": 34,
    "start_time": "2022-05-20T10:18:23.728Z"
   },
   {
    "duration": 48,
    "start_time": "2022-05-20T10:18:23.763Z"
   },
   {
    "duration": 25,
    "start_time": "2022-05-20T10:18:23.814Z"
   },
   {
    "duration": 87,
    "start_time": "2022-05-20T10:18:23.841Z"
   },
   {
    "duration": 107,
    "start_time": "2022-05-20T10:18:23.930Z"
   },
   {
    "duration": 85,
    "start_time": "2022-05-20T10:18:24.039Z"
   },
   {
    "duration": 7,
    "start_time": "2022-05-20T10:18:24.126Z"
   },
   {
    "duration": 12,
    "start_time": "2022-05-20T10:18:24.135Z"
   },
   {
    "duration": 69,
    "start_time": "2022-05-20T10:18:24.150Z"
   },
   {
    "duration": 482,
    "start_time": "2022-05-21T16:32:38.313Z"
   },
   {
    "duration": 470,
    "start_time": "2022-05-21T16:32:38.797Z"
   },
   {
    "duration": 22,
    "start_time": "2022-05-21T16:32:39.269Z"
   },
   {
    "duration": 34,
    "start_time": "2022-05-21T16:32:39.294Z"
   },
   {
    "duration": 13,
    "start_time": "2022-05-21T16:32:39.330Z"
   },
   {
    "duration": 18,
    "start_time": "2022-05-21T16:32:39.345Z"
   },
   {
    "duration": 5,
    "start_time": "2022-05-21T16:32:39.365Z"
   },
   {
    "duration": 25,
    "start_time": "2022-05-21T16:32:39.372Z"
   },
   {
    "duration": 52,
    "start_time": "2022-05-21T16:32:39.399Z"
   },
   {
    "duration": 29,
    "start_time": "2022-05-21T16:32:39.455Z"
   },
   {
    "duration": 115,
    "start_time": "2022-05-21T16:32:39.486Z"
   },
   {
    "duration": 88,
    "start_time": "2022-05-21T16:32:39.603Z"
   },
   {
    "duration": 108,
    "start_time": "2022-05-21T16:32:39.693Z"
   },
   {
    "duration": 13,
    "start_time": "2022-05-21T16:32:39.804Z"
   },
   {
    "duration": 29,
    "start_time": "2022-05-21T16:32:39.819Z"
   },
   {
    "duration": 34,
    "start_time": "2022-05-21T16:32:39.850Z"
   },
   {
    "duration": 11,
    "start_time": "2022-05-21T16:32:39.886Z"
   },
   {
    "duration": 57,
    "start_time": "2022-05-21T16:32:39.899Z"
   },
   {
    "duration": 22,
    "start_time": "2022-05-21T16:32:39.958Z"
   },
   {
    "duration": 5,
    "start_time": "2022-05-21T16:32:39.982Z"
   },
   {
    "duration": 44,
    "start_time": "2022-05-21T16:32:39.989Z"
   },
   {
    "duration": 25,
    "start_time": "2022-05-21T16:32:40.035Z"
   },
   {
    "duration": 27,
    "start_time": "2022-05-21T16:32:40.062Z"
   },
   {
    "duration": 15,
    "start_time": "2022-05-21T16:32:40.091Z"
   },
   {
    "duration": 50,
    "start_time": "2022-05-21T16:32:40.107Z"
   },
   {
    "duration": 17,
    "start_time": "2022-05-21T16:32:40.158Z"
   },
   {
    "duration": 13,
    "start_time": "2022-05-21T16:32:40.177Z"
   },
   {
    "duration": 11,
    "start_time": "2022-05-21T16:32:40.194Z"
   },
   {
    "duration": 38,
    "start_time": "2022-05-21T16:32:40.207Z"
   },
   {
    "duration": 4,
    "start_time": "2022-05-21T16:32:40.247Z"
   },
   {
    "duration": 31,
    "start_time": "2022-05-21T16:32:40.253Z"
   },
   {
    "duration": 16,
    "start_time": "2022-05-21T16:32:40.286Z"
   },
   {
    "duration": 51,
    "start_time": "2022-05-21T16:32:40.304Z"
   },
   {
    "duration": 13,
    "start_time": "2022-05-21T16:32:40.356Z"
   },
   {
    "duration": 13,
    "start_time": "2022-05-21T16:32:40.371Z"
   },
   {
    "duration": 6,
    "start_time": "2022-05-21T16:32:40.387Z"
   },
   {
    "duration": 11,
    "start_time": "2022-05-21T16:32:40.396Z"
   },
   {
    "duration": 6,
    "start_time": "2022-05-21T16:32:40.440Z"
   },
   {
    "duration": 430,
    "start_time": "2022-05-21T16:48:12.383Z"
   },
   {
    "duration": 189,
    "start_time": "2022-05-21T16:48:12.816Z"
   },
   {
    "duration": 27,
    "start_time": "2022-05-21T16:48:13.007Z"
   },
   {
    "duration": 46,
    "start_time": "2022-05-21T16:48:13.043Z"
   },
   {
    "duration": 6,
    "start_time": "2022-05-21T16:48:13.090Z"
   },
   {
    "duration": 18,
    "start_time": "2022-05-21T16:48:13.098Z"
   },
   {
    "duration": 27,
    "start_time": "2022-05-21T16:48:13.118Z"
   },
   {
    "duration": 31,
    "start_time": "2022-05-21T16:48:13.147Z"
   },
   {
    "duration": 20,
    "start_time": "2022-05-21T16:48:13.180Z"
   },
   {
    "duration": 37,
    "start_time": "2022-05-21T16:48:13.204Z"
   },
   {
    "duration": 74,
    "start_time": "2022-05-21T16:48:13.244Z"
   },
   {
    "duration": 85,
    "start_time": "2022-05-21T16:48:13.341Z"
   },
   {
    "duration": 74,
    "start_time": "2022-05-21T16:48:13.428Z"
   },
   {
    "duration": 7,
    "start_time": "2022-05-21T16:48:13.504Z"
   },
   {
    "duration": 4,
    "start_time": "2022-05-21T16:48:13.513Z"
   },
   {
    "duration": 24,
    "start_time": "2022-05-21T16:48:13.519Z"
   },
   {
    "duration": 10,
    "start_time": "2022-05-21T16:48:13.545Z"
   },
   {
    "duration": 104,
    "start_time": "2022-05-21T16:48:13.557Z"
   },
   {
    "duration": 0,
    "start_time": "2022-05-21T16:48:13.663Z"
   },
   {
    "duration": 0,
    "start_time": "2022-05-21T16:48:13.664Z"
   },
   {
    "duration": 0,
    "start_time": "2022-05-21T16:48:13.666Z"
   },
   {
    "duration": 0,
    "start_time": "2022-05-21T16:48:13.667Z"
   },
   {
    "duration": 0,
    "start_time": "2022-05-21T16:48:13.669Z"
   },
   {
    "duration": 0,
    "start_time": "2022-05-21T16:48:13.671Z"
   },
   {
    "duration": 0,
    "start_time": "2022-05-21T16:48:13.673Z"
   },
   {
    "duration": 0,
    "start_time": "2022-05-21T16:48:13.674Z"
   },
   {
    "duration": 0,
    "start_time": "2022-05-21T16:48:13.676Z"
   },
   {
    "duration": 0,
    "start_time": "2022-05-21T16:48:13.677Z"
   },
   {
    "duration": 0,
    "start_time": "2022-05-21T16:48:13.679Z"
   },
   {
    "duration": 0,
    "start_time": "2022-05-21T16:48:13.680Z"
   },
   {
    "duration": 0,
    "start_time": "2022-05-21T16:48:13.682Z"
   },
   {
    "duration": 1,
    "start_time": "2022-05-21T16:48:13.683Z"
   },
   {
    "duration": 0,
    "start_time": "2022-05-21T16:48:13.685Z"
   },
   {
    "duration": 0,
    "start_time": "2022-05-21T16:48:13.686Z"
   },
   {
    "duration": 0,
    "start_time": "2022-05-21T16:48:13.687Z"
   },
   {
    "duration": 0,
    "start_time": "2022-05-21T16:48:13.689Z"
   },
   {
    "duration": 0,
    "start_time": "2022-05-21T16:48:13.690Z"
   },
   {
    "duration": 0,
    "start_time": "2022-05-21T16:48:13.741Z"
   },
   {
    "duration": 0,
    "start_time": "2022-05-21T16:48:13.743Z"
   },
   {
    "duration": 0,
    "start_time": "2022-05-21T16:48:13.744Z"
   },
   {
    "duration": 10,
    "start_time": "2022-05-21T16:49:40.337Z"
   },
   {
    "duration": 3,
    "start_time": "2022-05-21T16:50:18.563Z"
   },
   {
    "duration": 16,
    "start_time": "2022-05-21T16:50:19.473Z"
   },
   {
    "duration": 7,
    "start_time": "2022-05-21T16:50:21.615Z"
   },
   {
    "duration": 423,
    "start_time": "2022-05-21T16:51:45.478Z"
   },
   {
    "duration": 201,
    "start_time": "2022-05-21T16:51:45.903Z"
   },
   {
    "duration": 19,
    "start_time": "2022-05-21T16:51:46.107Z"
   },
   {
    "duration": 54,
    "start_time": "2022-05-21T16:51:46.128Z"
   },
   {
    "duration": 5,
    "start_time": "2022-05-21T16:51:46.184Z"
   },
   {
    "duration": 21,
    "start_time": "2022-05-21T16:51:46.190Z"
   },
   {
    "duration": 27,
    "start_time": "2022-05-21T16:51:46.214Z"
   },
   {
    "duration": 38,
    "start_time": "2022-05-21T16:51:46.243Z"
   },
   {
    "duration": 33,
    "start_time": "2022-05-21T16:51:46.283Z"
   },
   {
    "duration": 40,
    "start_time": "2022-05-21T16:51:46.320Z"
   },
   {
    "duration": 80,
    "start_time": "2022-05-21T16:51:46.362Z"
   },
   {
    "duration": 98,
    "start_time": "2022-05-21T16:51:46.444Z"
   },
   {
    "duration": 66,
    "start_time": "2022-05-21T16:51:46.545Z"
   },
   {
    "duration": 9,
    "start_time": "2022-05-21T16:51:46.613Z"
   },
   {
    "duration": 22,
    "start_time": "2022-05-21T16:51:46.624Z"
   },
   {
    "duration": 13,
    "start_time": "2022-05-21T16:51:46.649Z"
   },
   {
    "duration": 13,
    "start_time": "2022-05-21T16:51:46.664Z"
   },
   {
    "duration": 30,
    "start_time": "2022-05-21T16:51:46.679Z"
   },
   {
    "duration": 6,
    "start_time": "2022-05-21T16:51:46.711Z"
   },
   {
    "duration": 15,
    "start_time": "2022-05-21T16:51:46.719Z"
   },
   {
    "duration": 17,
    "start_time": "2022-05-21T16:51:46.736Z"
   },
   {
    "duration": 4,
    "start_time": "2022-05-21T16:51:46.754Z"
   },
   {
    "duration": 37,
    "start_time": "2022-05-21T16:51:46.760Z"
   },
   {
    "duration": 19,
    "start_time": "2022-05-21T16:51:46.799Z"
   },
   {
    "duration": 61,
    "start_time": "2022-05-21T16:51:46.820Z"
   },
   {
    "duration": 38,
    "start_time": "2022-05-21T16:51:46.883Z"
   },
   {
    "duration": 59,
    "start_time": "2022-05-21T16:51:46.923Z"
   },
   {
    "duration": 53,
    "start_time": "2022-05-21T16:51:46.987Z"
   },
   {
    "duration": 19,
    "start_time": "2022-05-21T16:51:47.042Z"
   },
   {
    "duration": 34,
    "start_time": "2022-05-21T16:51:47.063Z"
   },
   {
    "duration": 34,
    "start_time": "2022-05-21T16:51:47.099Z"
   },
   {
    "duration": 40,
    "start_time": "2022-05-21T16:51:47.136Z"
   },
   {
    "duration": 55,
    "start_time": "2022-05-21T16:51:47.178Z"
   },
   {
    "duration": 26,
    "start_time": "2022-05-21T16:51:47.237Z"
   },
   {
    "duration": 31,
    "start_time": "2022-05-21T16:51:47.265Z"
   },
   {
    "duration": 20,
    "start_time": "2022-05-21T16:51:47.297Z"
   },
   {
    "duration": 9,
    "start_time": "2022-05-21T16:51:47.318Z"
   },
   {
    "duration": 6,
    "start_time": "2022-05-21T16:51:47.329Z"
   },
   {
    "duration": 7,
    "start_time": "2022-05-21T16:51:47.342Z"
   },
   {
    "duration": 6,
    "start_time": "2022-05-21T16:51:47.351Z"
   },
   {
    "duration": 700,
    "start_time": "2022-05-22T13:27:27.891Z"
   },
   {
    "duration": 226,
    "start_time": "2022-05-22T13:27:28.593Z"
   },
   {
    "duration": 19,
    "start_time": "2022-05-22T13:27:28.820Z"
   },
   {
    "duration": 41,
    "start_time": "2022-05-22T13:27:28.842Z"
   },
   {
    "duration": 5,
    "start_time": "2022-05-22T13:27:28.885Z"
   },
   {
    "duration": 23,
    "start_time": "2022-05-22T13:27:28.892Z"
   },
   {
    "duration": 9,
    "start_time": "2022-05-22T13:27:28.917Z"
   },
   {
    "duration": 33,
    "start_time": "2022-05-22T13:27:28.928Z"
   },
   {
    "duration": 18,
    "start_time": "2022-05-22T13:27:28.963Z"
   },
   {
    "duration": 22,
    "start_time": "2022-05-22T13:27:28.984Z"
   },
   {
    "duration": 91,
    "start_time": "2022-05-22T13:27:29.008Z"
   },
   {
    "duration": 92,
    "start_time": "2022-05-22T13:27:29.101Z"
   },
   {
    "duration": 73,
    "start_time": "2022-05-22T13:27:29.195Z"
   },
   {
    "duration": 8,
    "start_time": "2022-05-22T13:27:29.270Z"
   },
   {
    "duration": 5,
    "start_time": "2022-05-22T13:27:29.280Z"
   },
   {
    "duration": 16,
    "start_time": "2022-05-22T13:27:29.287Z"
   },
   {
    "duration": 10,
    "start_time": "2022-05-22T13:27:29.305Z"
   },
   {
    "duration": 2,
    "start_time": "2022-05-22T13:28:31.479Z"
   },
   {
    "duration": 165,
    "start_time": "2022-05-22T13:28:31.483Z"
   },
   {
    "duration": 11,
    "start_time": "2022-05-22T13:28:31.650Z"
   },
   {
    "duration": 52,
    "start_time": "2022-05-22T13:28:31.664Z"
   },
   {
    "duration": 4,
    "start_time": "2022-05-22T13:28:31.718Z"
   },
   {
    "duration": 10,
    "start_time": "2022-05-22T13:28:31.724Z"
   },
   {
    "duration": 23,
    "start_time": "2022-05-22T13:28:31.736Z"
   },
   {
    "duration": 44,
    "start_time": "2022-05-22T13:28:31.761Z"
   },
   {
    "duration": 24,
    "start_time": "2022-05-22T13:28:31.807Z"
   },
   {
    "duration": 28,
    "start_time": "2022-05-22T13:28:31.832Z"
   },
   {
    "duration": 75,
    "start_time": "2022-05-22T13:28:31.863Z"
   },
   {
    "duration": 110,
    "start_time": "2022-05-22T13:28:31.940Z"
   },
   {
    "duration": 59,
    "start_time": "2022-05-22T13:28:32.053Z"
   },
   {
    "duration": 6,
    "start_time": "2022-05-22T13:28:32.114Z"
   },
   {
    "duration": 10,
    "start_time": "2022-05-22T13:28:32.122Z"
   },
   {
    "duration": 18,
    "start_time": "2022-05-22T13:28:32.134Z"
   },
   {
    "duration": 25,
    "start_time": "2022-05-22T13:28:32.154Z"
   },
   {
    "duration": 3,
    "start_time": "2022-05-22T13:28:38.404Z"
   },
   {
    "duration": 177,
    "start_time": "2022-05-22T13:28:38.409Z"
   },
   {
    "duration": 11,
    "start_time": "2022-05-22T13:28:38.589Z"
   },
   {
    "duration": 52,
    "start_time": "2022-05-22T13:28:38.602Z"
   },
   {
    "duration": 17,
    "start_time": "2022-05-22T13:28:38.657Z"
   },
   {
    "duration": 27,
    "start_time": "2022-05-22T13:28:38.676Z"
   },
   {
    "duration": 23,
    "start_time": "2022-05-22T13:28:38.705Z"
   },
   {
    "duration": 51,
    "start_time": "2022-05-22T13:28:38.730Z"
   },
   {
    "duration": 19,
    "start_time": "2022-05-22T13:28:38.783Z"
   },
   {
    "duration": 24,
    "start_time": "2022-05-22T13:28:38.804Z"
   },
   {
    "duration": 80,
    "start_time": "2022-05-22T13:28:38.831Z"
   },
   {
    "duration": 96,
    "start_time": "2022-05-22T13:28:38.913Z"
   },
   {
    "duration": 61,
    "start_time": "2022-05-22T13:28:39.010Z"
   },
   {
    "duration": 7,
    "start_time": "2022-05-22T13:28:39.073Z"
   },
   {
    "duration": 11,
    "start_time": "2022-05-22T13:28:39.081Z"
   },
   {
    "duration": 10,
    "start_time": "2022-05-22T13:28:39.093Z"
   },
   {
    "duration": 25,
    "start_time": "2022-05-22T13:28:39.105Z"
   },
   {
    "duration": 37,
    "start_time": "2022-05-22T13:28:39.131Z"
   },
   {
    "duration": 3,
    "start_time": "2022-05-22T13:28:51.750Z"
   },
   {
    "duration": 171,
    "start_time": "2022-05-22T13:28:51.756Z"
   },
   {
    "duration": 11,
    "start_time": "2022-05-22T13:28:51.929Z"
   },
   {
    "duration": 39,
    "start_time": "2022-05-22T13:28:51.942Z"
   },
   {
    "duration": 5,
    "start_time": "2022-05-22T13:28:51.984Z"
   },
   {
    "duration": 16,
    "start_time": "2022-05-22T13:28:51.991Z"
   },
   {
    "duration": 5,
    "start_time": "2022-05-22T13:28:52.009Z"
   },
   {
    "duration": 43,
    "start_time": "2022-05-22T13:28:52.016Z"
   },
   {
    "duration": 30,
    "start_time": "2022-05-22T13:28:52.061Z"
   },
   {
    "duration": 23,
    "start_time": "2022-05-22T13:28:52.092Z"
   },
   {
    "duration": 82,
    "start_time": "2022-05-22T13:28:52.116Z"
   },
   {
    "duration": 79,
    "start_time": "2022-05-22T13:28:52.200Z"
   },
   {
    "duration": 58,
    "start_time": "2022-05-22T13:28:52.281Z"
   },
   {
    "duration": 15,
    "start_time": "2022-05-22T13:28:52.341Z"
   },
   {
    "duration": 4,
    "start_time": "2022-05-22T13:28:52.358Z"
   },
   {
    "duration": 17,
    "start_time": "2022-05-22T13:28:52.363Z"
   },
   {
    "duration": 11,
    "start_time": "2022-05-22T13:28:52.382Z"
   },
   {
    "duration": 28,
    "start_time": "2022-05-22T13:28:52.395Z"
   },
   {
    "duration": 3,
    "start_time": "2022-05-22T13:29:24.903Z"
   },
   {
    "duration": 163,
    "start_time": "2022-05-22T13:29:24.908Z"
   },
   {
    "duration": 12,
    "start_time": "2022-05-22T13:29:25.072Z"
   },
   {
    "duration": 34,
    "start_time": "2022-05-22T13:29:25.085Z"
   },
   {
    "duration": 4,
    "start_time": "2022-05-22T13:29:25.122Z"
   },
   {
    "duration": 27,
    "start_time": "2022-05-22T13:29:25.127Z"
   },
   {
    "duration": 8,
    "start_time": "2022-05-22T13:29:25.156Z"
   },
   {
    "duration": 38,
    "start_time": "2022-05-22T13:29:25.166Z"
   },
   {
    "duration": 30,
    "start_time": "2022-05-22T13:29:25.207Z"
   },
   {
    "duration": 33,
    "start_time": "2022-05-22T13:29:25.253Z"
   },
   {
    "duration": 143,
    "start_time": "2022-05-22T13:29:25.290Z"
   },
   {
    "duration": 93,
    "start_time": "2022-05-22T13:29:25.434Z"
   },
   {
    "duration": 67,
    "start_time": "2022-05-22T13:29:25.529Z"
   },
   {
    "duration": 6,
    "start_time": "2022-05-22T13:29:25.597Z"
   },
   {
    "duration": 18,
    "start_time": "2022-05-22T13:29:25.605Z"
   },
   {
    "duration": 8,
    "start_time": "2022-05-22T13:29:25.625Z"
   },
   {
    "duration": 11,
    "start_time": "2022-05-22T13:29:25.634Z"
   },
   {
    "duration": 7,
    "start_time": "2022-05-22T13:29:28.913Z"
   },
   {
    "duration": 2,
    "start_time": "2022-05-22T13:29:57.755Z"
   },
   {
    "duration": 172,
    "start_time": "2022-05-22T13:29:57.759Z"
   },
   {
    "duration": 10,
    "start_time": "2022-05-22T13:29:57.933Z"
   },
   {
    "duration": 33,
    "start_time": "2022-05-22T13:29:57.945Z"
   },
   {
    "duration": 4,
    "start_time": "2022-05-22T13:29:57.980Z"
   },
   {
    "duration": 19,
    "start_time": "2022-05-22T13:29:57.985Z"
   },
   {
    "duration": 5,
    "start_time": "2022-05-22T13:29:58.005Z"
   },
   {
    "duration": 52,
    "start_time": "2022-05-22T13:29:58.014Z"
   },
   {
    "duration": 23,
    "start_time": "2022-05-22T13:29:58.068Z"
   },
   {
    "duration": 24,
    "start_time": "2022-05-22T13:29:58.092Z"
   },
   {
    "duration": 84,
    "start_time": "2022-05-22T13:29:58.119Z"
   },
   {
    "duration": 82,
    "start_time": "2022-05-22T13:29:58.204Z"
   },
   {
    "duration": 65,
    "start_time": "2022-05-22T13:29:58.288Z"
   },
   {
    "duration": 8,
    "start_time": "2022-05-22T13:29:58.354Z"
   },
   {
    "duration": 6,
    "start_time": "2022-05-22T13:29:58.363Z"
   },
   {
    "duration": 6,
    "start_time": "2022-05-22T13:29:58.371Z"
   },
   {
    "duration": 14,
    "start_time": "2022-05-22T13:29:58.378Z"
   },
   {
    "duration": 15,
    "start_time": "2022-05-22T13:29:58.393Z"
   },
   {
    "duration": 3,
    "start_time": "2022-05-22T13:30:05.575Z"
   },
   {
    "duration": 177,
    "start_time": "2022-05-22T13:30:05.579Z"
   },
   {
    "duration": 12,
    "start_time": "2022-05-22T13:30:05.758Z"
   },
   {
    "duration": 34,
    "start_time": "2022-05-22T13:30:05.772Z"
   },
   {
    "duration": 4,
    "start_time": "2022-05-22T13:30:05.809Z"
   },
   {
    "duration": 14,
    "start_time": "2022-05-22T13:30:05.815Z"
   },
   {
    "duration": 22,
    "start_time": "2022-05-22T13:30:05.831Z"
   },
   {
    "duration": 30,
    "start_time": "2022-05-22T13:30:05.855Z"
   },
   {
    "duration": 25,
    "start_time": "2022-05-22T13:30:05.886Z"
   },
   {
    "duration": 41,
    "start_time": "2022-05-22T13:30:05.912Z"
   },
   {
    "duration": 95,
    "start_time": "2022-05-22T13:30:05.957Z"
   },
   {
    "duration": 71,
    "start_time": "2022-05-22T13:30:06.054Z"
   },
   {
    "duration": 87,
    "start_time": "2022-05-22T13:30:06.128Z"
   },
   {
    "duration": 6,
    "start_time": "2022-05-22T13:30:06.217Z"
   },
   {
    "duration": 16,
    "start_time": "2022-05-22T13:30:06.225Z"
   },
   {
    "duration": 5,
    "start_time": "2022-05-22T13:30:06.251Z"
   },
   {
    "duration": 19,
    "start_time": "2022-05-22T13:30:06.258Z"
   },
   {
    "duration": 41,
    "start_time": "2022-05-22T13:30:06.279Z"
   },
   {
    "duration": 2,
    "start_time": "2022-05-22T13:30:54.852Z"
   },
   {
    "duration": 169,
    "start_time": "2022-05-22T13:30:54.856Z"
   },
   {
    "duration": 13,
    "start_time": "2022-05-22T13:30:55.026Z"
   },
   {
    "duration": 31,
    "start_time": "2022-05-22T13:30:55.051Z"
   },
   {
    "duration": 4,
    "start_time": "2022-05-22T13:30:55.084Z"
   },
   {
    "duration": 10,
    "start_time": "2022-05-22T13:30:55.090Z"
   },
   {
    "duration": 4,
    "start_time": "2022-05-22T13:30:55.101Z"
   },
   {
    "duration": 46,
    "start_time": "2022-05-22T13:30:55.106Z"
   },
   {
    "duration": 20,
    "start_time": "2022-05-22T13:30:55.154Z"
   },
   {
    "duration": 23,
    "start_time": "2022-05-22T13:30:55.176Z"
   },
   {
    "duration": 105,
    "start_time": "2022-05-22T13:30:55.201Z"
   },
   {
    "duration": 111,
    "start_time": "2022-05-22T13:30:55.308Z"
   },
   {
    "duration": 95,
    "start_time": "2022-05-22T13:30:55.422Z"
   },
   {
    "duration": 6,
    "start_time": "2022-05-22T13:30:55.520Z"
   },
   {
    "duration": 12,
    "start_time": "2022-05-22T13:30:55.528Z"
   },
   {
    "duration": 10,
    "start_time": "2022-05-22T13:30:55.542Z"
   },
   {
    "duration": 10,
    "start_time": "2022-05-22T13:30:55.554Z"
   },
   {
    "duration": 12,
    "start_time": "2022-05-22T13:30:55.566Z"
   },
   {
    "duration": 9,
    "start_time": "2022-05-22T13:30:55.580Z"
   },
   {
    "duration": 18,
    "start_time": "2022-05-22T13:30:55.590Z"
   },
   {
    "duration": 12,
    "start_time": "2022-05-22T13:30:55.610Z"
   },
   {
    "duration": 3,
    "start_time": "2022-05-22T13:30:55.653Z"
   },
   {
    "duration": 22,
    "start_time": "2022-05-22T13:30:55.658Z"
   },
   {
    "duration": 13,
    "start_time": "2022-05-22T13:30:55.682Z"
   },
   {
    "duration": 15,
    "start_time": "2022-05-22T13:30:55.697Z"
   },
   {
    "duration": 44,
    "start_time": "2022-05-22T13:30:55.714Z"
   },
   {
    "duration": 17,
    "start_time": "2022-05-22T13:30:55.760Z"
   },
   {
    "duration": 14,
    "start_time": "2022-05-22T13:30:55.778Z"
   },
   {
    "duration": 9,
    "start_time": "2022-05-22T13:30:55.793Z"
   },
   {
    "duration": 15,
    "start_time": "2022-05-22T13:30:55.804Z"
   },
   {
    "duration": 35,
    "start_time": "2022-05-22T13:30:55.821Z"
   },
   {
    "duration": 4,
    "start_time": "2022-05-22T13:30:55.858Z"
   },
   {
    "duration": 25,
    "start_time": "2022-05-22T13:30:55.864Z"
   },
   {
    "duration": 11,
    "start_time": "2022-05-22T13:30:55.891Z"
   },
   {
    "duration": 16,
    "start_time": "2022-05-22T13:30:55.904Z"
   },
   {
    "duration": 40,
    "start_time": "2022-05-22T13:30:55.921Z"
   },
   {
    "duration": 8,
    "start_time": "2022-05-22T13:30:55.962Z"
   },
   {
    "duration": 7,
    "start_time": "2022-05-22T13:30:55.972Z"
   },
   {
    "duration": 9,
    "start_time": "2022-05-22T13:30:55.980Z"
   },
   {
    "duration": 5,
    "start_time": "2022-05-22T13:33:30.147Z"
   },
   {
    "duration": 3,
    "start_time": "2022-05-22T13:35:08.142Z"
   },
   {
    "duration": 3,
    "start_time": "2022-05-22T13:35:21.645Z"
   },
   {
    "duration": 202,
    "start_time": "2022-05-22T13:35:21.650Z"
   },
   {
    "duration": 15,
    "start_time": "2022-05-22T13:35:21.855Z"
   },
   {
    "duration": 34,
    "start_time": "2022-05-22T13:35:21.871Z"
   },
   {
    "duration": 5,
    "start_time": "2022-05-22T13:35:21.908Z"
   },
   {
    "duration": 15,
    "start_time": "2022-05-22T13:35:21.915Z"
   },
   {
    "duration": 22,
    "start_time": "2022-05-22T13:35:21.932Z"
   },
   {
    "duration": 39,
    "start_time": "2022-05-22T13:35:21.956Z"
   },
   {
    "duration": 21,
    "start_time": "2022-05-22T13:35:21.997Z"
   },
   {
    "duration": 32,
    "start_time": "2022-05-22T13:35:22.020Z"
   },
   {
    "duration": 119,
    "start_time": "2022-05-22T13:35:22.054Z"
   },
   {
    "duration": 78,
    "start_time": "2022-05-22T13:35:22.177Z"
   },
   {
    "duration": 64,
    "start_time": "2022-05-22T13:35:22.259Z"
   },
   {
    "duration": 7,
    "start_time": "2022-05-22T13:35:22.324Z"
   },
   {
    "duration": 39,
    "start_time": "2022-05-22T13:35:22.333Z"
   },
   {
    "duration": 7,
    "start_time": "2022-05-22T13:35:22.374Z"
   },
   {
    "duration": 9,
    "start_time": "2022-05-22T13:35:22.383Z"
   },
   {
    "duration": 12,
    "start_time": "2022-05-22T13:35:22.393Z"
   },
   {
    "duration": 9,
    "start_time": "2022-05-22T13:35:22.407Z"
   },
   {
    "duration": 19,
    "start_time": "2022-05-22T13:35:22.418Z"
   },
   {
    "duration": 19,
    "start_time": "2022-05-22T13:35:22.439Z"
   },
   {
    "duration": 9,
    "start_time": "2022-05-22T13:35:22.460Z"
   },
   {
    "duration": 28,
    "start_time": "2022-05-22T13:35:22.472Z"
   },
   {
    "duration": 18,
    "start_time": "2022-05-22T13:35:22.502Z"
   },
   {
    "duration": 39,
    "start_time": "2022-05-22T13:35:22.522Z"
   },
   {
    "duration": 24,
    "start_time": "2022-05-22T13:35:22.566Z"
   },
   {
    "duration": 26,
    "start_time": "2022-05-22T13:35:22.593Z"
   },
   {
    "duration": 23,
    "start_time": "2022-05-22T13:35:22.622Z"
   },
   {
    "duration": 14,
    "start_time": "2022-05-22T13:35:22.646Z"
   },
   {
    "duration": 39,
    "start_time": "2022-05-22T13:35:22.662Z"
   },
   {
    "duration": 15,
    "start_time": "2022-05-22T13:35:22.703Z"
   },
   {
    "duration": 17,
    "start_time": "2022-05-22T13:35:22.720Z"
   },
   {
    "duration": 36,
    "start_time": "2022-05-22T13:35:22.739Z"
   },
   {
    "duration": 23,
    "start_time": "2022-05-22T13:35:22.776Z"
   },
   {
    "duration": 16,
    "start_time": "2022-05-22T13:35:22.801Z"
   },
   {
    "duration": 11,
    "start_time": "2022-05-22T13:35:22.819Z"
   },
   {
    "duration": 25,
    "start_time": "2022-05-22T13:35:22.834Z"
   },
   {
    "duration": 9,
    "start_time": "2022-05-22T13:35:22.861Z"
   },
   {
    "duration": 7,
    "start_time": "2022-05-22T13:35:22.872Z"
   },
   {
    "duration": 524,
    "start_time": "2022-05-22T20:28:37.442Z"
   },
   {
    "duration": 245,
    "start_time": "2022-05-22T20:28:37.969Z"
   },
   {
    "duration": 21,
    "start_time": "2022-05-22T20:28:38.216Z"
   },
   {
    "duration": 64,
    "start_time": "2022-05-22T20:28:38.238Z"
   },
   {
    "duration": 4,
    "start_time": "2022-05-22T20:28:38.305Z"
   },
   {
    "duration": 20,
    "start_time": "2022-05-22T20:28:38.311Z"
   },
   {
    "duration": 11,
    "start_time": "2022-05-22T20:28:38.333Z"
   },
   {
    "duration": 49,
    "start_time": "2022-05-22T20:28:38.346Z"
   },
   {
    "duration": 32,
    "start_time": "2022-05-22T20:28:38.397Z"
   },
   {
    "duration": 38,
    "start_time": "2022-05-22T20:28:38.431Z"
   },
   {
    "duration": 105,
    "start_time": "2022-05-22T20:28:38.471Z"
   },
   {
    "duration": 119,
    "start_time": "2022-05-22T20:28:38.577Z"
   },
   {
    "duration": 89,
    "start_time": "2022-05-22T20:28:38.698Z"
   },
   {
    "duration": 12,
    "start_time": "2022-05-22T20:28:38.794Z"
   },
   {
    "duration": 8,
    "start_time": "2022-05-22T20:28:38.807Z"
   },
   {
    "duration": 14,
    "start_time": "2022-05-22T20:28:38.817Z"
   },
   {
    "duration": 15,
    "start_time": "2022-05-22T20:28:38.833Z"
   },
   {
    "duration": 18,
    "start_time": "2022-05-22T20:28:38.850Z"
   },
   {
    "duration": 11,
    "start_time": "2022-05-22T20:28:38.870Z"
   },
   {
    "duration": 26,
    "start_time": "2022-05-22T20:28:38.883Z"
   },
   {
    "duration": 23,
    "start_time": "2022-05-22T20:28:38.911Z"
   },
   {
    "duration": 5,
    "start_time": "2022-05-22T20:28:38.936Z"
   },
   {
    "duration": 55,
    "start_time": "2022-05-22T20:28:38.943Z"
   },
   {
    "duration": 21,
    "start_time": "2022-05-22T20:28:39.000Z"
   },
   {
    "duration": 29,
    "start_time": "2022-05-22T20:28:39.023Z"
   },
   {
    "duration": 72,
    "start_time": "2022-05-22T20:28:39.054Z"
   },
   {
    "duration": 46,
    "start_time": "2022-05-22T20:28:39.128Z"
   },
   {
    "duration": 45,
    "start_time": "2022-05-22T20:28:39.177Z"
   },
   {
    "duration": 23,
    "start_time": "2022-05-22T20:28:39.228Z"
   },
   {
    "duration": 46,
    "start_time": "2022-05-22T20:28:39.252Z"
   },
   {
    "duration": 19,
    "start_time": "2022-05-22T20:28:39.300Z"
   },
   {
    "duration": 21,
    "start_time": "2022-05-22T20:28:39.321Z"
   },
   {
    "duration": 53,
    "start_time": "2022-05-22T20:28:39.344Z"
   },
   {
    "duration": 20,
    "start_time": "2022-05-22T20:28:39.402Z"
   },
   {
    "duration": 37,
    "start_time": "2022-05-22T20:28:39.424Z"
   },
   {
    "duration": 16,
    "start_time": "2022-05-22T20:28:39.463Z"
   },
   {
    "duration": 32,
    "start_time": "2022-05-22T20:28:39.481Z"
   },
   {
    "duration": 18,
    "start_time": "2022-05-22T20:28:39.515Z"
   },
   {
    "duration": 25,
    "start_time": "2022-05-22T20:28:39.535Z"
   },
   {
    "duration": 19,
    "start_time": "2022-05-22T20:28:39.562Z"
   }
  ],
  "colab": {
   "collapsed_sections": [
    "E0vqbgi9ay0H",
    "VUC88oWjTJw2"
   ],
   "name": "yandex_music_project.ipynb",
   "provenance": []
  },
  "kernelspec": {
   "display_name": "Python 3 (ipykernel)",
   "language": "python",
   "name": "python3"
  },
  "language_info": {
   "codemirror_mode": {
    "name": "ipython",
    "version": 3
   },
   "file_extension": ".py",
   "mimetype": "text/x-python",
   "name": "python",
   "nbconvert_exporter": "python",
   "pygments_lexer": "ipython3",
   "version": "3.9.7"
  },
  "toc": {
   "base_numbering": 1,
   "nav_menu": {},
   "number_sections": true,
   "sideBar": true,
   "skip_h1_title": true,
   "title_cell": "Table of Contents",
   "title_sidebar": "Contents",
   "toc_cell": false,
   "toc_position": {},
   "toc_section_display": true,
   "toc_window_display": false
  }
 },
 "nbformat": 4,
 "nbformat_minor": 1
}
